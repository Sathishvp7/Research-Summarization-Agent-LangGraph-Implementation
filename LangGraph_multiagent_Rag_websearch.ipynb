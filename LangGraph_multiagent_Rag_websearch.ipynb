{
 "cells": [
  {
   "cell_type": "markdown",
   "id": "19f68640",
   "metadata": {},
   "source": [
    "# 🔹 Project Summary: Research & Summarization Agent — Design Insight\n",
    "\n",
    "I have designed a **Retrieval-Augmented Generation (RAG) based chatbot** that integrates **role-based access control (RBAC)** to ensure users only see information relevant to their role.  \n",
    "\n",
    "---\n",
    "\n",
    "## ✅ Key Features\n",
    "\n",
    "- **Role-Aware Query Handling**  \n",
    "  - Queries are routed to the correct **document category** (`employee`, `engineer`, `hr`, `finance`, `marketing`) using RAG classification.  \n",
    "  - This ensures employees, engineers, HR staff, finance teams, or marketers see the right documents.  \n",
    "\n",
    "- **Fallback to Web Search**  \n",
    "  - If RAG cannot answer or no relevant documents are found, the query is routed to **web search** for external answers.  \n",
    "\n",
    "- **Context-Rich Responses**  \n",
    "  - Combines retrieved documents with an LLM to generate detailed, role-specific responses.  \n",
    "  - Final answers summarize both **retrieved context** and **user role intent**.  \n",
    "\n",
    "- **Memory & Pronoun Resolution**  \n",
    "  - Maintains conversational memory, allowing pronoun-based follow-ups (e.g., *\"Where was he born?\"* after asking about a CEO).  \n",
    "  - Ensures continuity in multi-turn dialogues.  \n",
    "\n",
    "- **Graph-based Workflow (LangGraph)**  \n",
    "  - **Start node** → route question (RAG vs Web)  \n",
    "  - If **RAG** → categorize inquiry → role-specific response generator  \n",
    "  - If **Web** → web search node → generate answer  \n",
    "  - All paths converge into a **final answer node** before ending.  \n",
    "\n",
    "---\n",
    "\n",
    "## 🔹 Business Value\n",
    "\n",
    "- Provides **secure access**: users only see data permitted by their role.  \n",
    "- Improves **accuracy and relevance** by combining **internal knowledge (vectorstore)** with **external web search**.  \n",
    "- Enhances **user experience** with memory, context-awareness, and precise role alignment.  \n",
    "\n",
    "---\n",
    "\n",
    "**In short:**  \n",
    "You’ve built a **role-aware RAG + WebSearch hybrid chatbot** using LangGraph, ensuring secure, context-rich, and dynamic responses tailored to each user’s role.\n"
   ]
  },
  {
   "cell_type": "code",
   "execution_count": 51,
   "id": "dc5344cc",
   "metadata": {},
   "outputs": [],
   "source": [
    "## Build RAG \n",
    "\n",
    "from langchain_core.prompts import ChatPromptTemplate\n",
    "from langchain_openai import ChatOpenAI\n",
    "from rich.console import Console\n",
    "from rich.markdown import Markdown as RichMarkdown\n",
    "from typing import Annotated,List,Literal,Optional\n",
    "from pydantic import BaseModel,Field\n",
    "from langgraph.graph.message import add_messages\n",
    "import json\n",
    "from typing_extensions import TypedDict\n",
    "from langgraph.graph import StateGraph, START, END\n",
    "from langchain_community.tools import TavilySearchResults\n",
    "from langchain_core.messages import HumanMessage, SystemMessage,AIMessage\n",
    "from langchain_chroma import Chroma\n",
    "from langchain_openai import OpenAIEmbeddings\n",
    "from langgraph.checkpoint.memory import MemorySaver\n",
    "import os\n",
    "import re\n",
    "from getpass import getpass"
   ]
  },
  {
   "cell_type": "code",
   "execution_count": 2,
   "id": "51594a34",
   "metadata": {},
   "outputs": [],
   "source": [
    "OPENAI_KEY = getpass('Enter Open AI API Key: ')\n",
    "os.environ['OPENAI_API_KEY'] = OPENAI_KEY"
   ]
  },
  {
   "cell_type": "code",
   "execution_count": 3,
   "id": "aa6de4ea",
   "metadata": {},
   "outputs": [],
   "source": [
    "## Enter Tavily Search API Key\n",
    "TAVILY_API_KEY = getpass('Enter Tavily Search API Key: ')\n",
    "os.environ['TAVILY_API_KEY'] = TAVILY_API_KEY"
   ]
  },
  {
   "cell_type": "code",
   "execution_count": null,
   "id": "39d05b44",
   "metadata": {},
   "outputs": [],
   "source": [
    "class MultiAgent(TypedDict):\n",
    "    \"\"\"\n",
    "    Represent State Graph\n",
    "    user_query - User input or query\n",
    "    final_response - LLM Generation\n",
    "    query_category - List of retrived document from VectorDb or Websearch\n",
    "    rag_query_category - List of [\"employee\", \"engineer\", \"hr\", \"finance\", \"marketing\"]\n",
    "    \"\"\"\n",
    "    user_query: Annotated[list, add_messages]\n",
    "    final_response: str\n",
    "    documents: List[str]\n",
    "    query_category: Optional[Literal[\"vectorstore\", \"web_search\"]]\n",
    "    rag_query_category: Literal[\"employee\", \"engineer\", \"hr\", \"finance\", \"marketing\"]\n",
    "\n",
    "class QueryCategory(BaseModel):\n",
    "    categorized_topic: Literal[\"employee\", \"engineer\", \"hr\", \"finance\", \"marketing\"]\n",
    "\n",
    "class query_rewrite(TypedDict):\n",
    "    \"\"\" user query contains a pronoun, it may be ambiguous on its own using historical we updating query for better websearch\"\"\"\n",
    "    query_rewritten : str\n",
    "    "
   ]
  },
  {
   "cell_type": "code",
   "execution_count": 5,
   "id": "0d4cfa84",
   "metadata": {},
   "outputs": [],
   "source": [
    "# Step 1: Create a routing logic\n",
    "\n",
    "# Data model\n",
    "class RouteQuery(BaseModel):\n",
    "    \"\"\"Route a user query to the most relevant datasource.\"\"\"\n",
    "\n",
    "    datasource: Literal[\"vectorstore\", \"web_search\"] = Field(\n",
    "        description=\"Given a user question choose to route it to web search or a vectorstore.\",\n",
    "    )\n",
    "\n",
    "# LLM with function call\n",
    "llm = ChatOpenAI(model=\"gpt-4o\", temperature=0)\n",
    "structured_llm_router = llm.with_structured_output(RouteQuery)\n",
    "\n",
    "# Prompt\n",
    "system = \"\"\"\n",
    "You are an expert at routing a user question to either a vectorstore or web search.\n",
    "\n",
    "The vectorstore contains internal organizational documents across five categories:\n",
    "- Employee: company-wide policies, handbooks, benefits, onboarding guides\n",
    "- Engineer: technical documentation, architecture, APIs, code guidelines\n",
    "- HR: employee records, performance reviews, recruitment, training, compensation\n",
    "- Finance: budgets, expense reports, financial statements, accounting documents\n",
    "- Marketing: campaign reports, brand guidelines, market research, customer engagement materials\n",
    "\n",
    "Use the vectorstore for questions that clearly relate to any of these domains, including requests for study plans, notes, cheat sheets, or preparation materials based on these internal documents.\n",
    "\n",
    "If the user’s query is about anything else (e.g., current events, external companies, prices, weather, news, sports, or general knowledge outside the scope of these five categories), use web-search.\n",
    "\n",
    "Return only one token: \"vectorstore\" or \"web_search\".\n",
    "\"\"\"\n",
    "\n",
    "\n",
    "route_prompt = ChatPromptTemplate.from_messages(\n",
    "    [\n",
    "        (\"system\", system),\n",
    "        (\"human\", \"{question}\"),\n",
    "    ]\n",
    ")\n",
    "\n",
    "question_router = route_prompt | structured_llm_router\n",
    "\n",
    "\n",
    "def route_question(state:MultiAgent):\n",
    "    \"\"\"\n",
    "    Route question to web search or RAG.\n",
    "\n",
    "    Args:\n",
    "        state (dict): The current graph state\n",
    "\n",
    "    Returns:\n",
    "        str: Next node to call\n",
    "    \"\"\"\n",
    "    print(\"---ROUTE QUESTION---\")\n",
    "    question = state[\"user_query\"]\n",
    "    source = question_router.invoke({\"question\": question})\n",
    "\n",
    "    if source.datasource == \"web_search\":\n",
    "        print(\"---ROUTE QUESTION TO WEB SEARCH---\")\n",
    "        return \"search_web\"\n",
    "    elif source.datasource == \"vectorstore\":\n",
    "        print(\"---ROUTE QUESTION TO RAG---\")\n",
    "        return \"categorize_inquiry\"\n",
    "\n"
   ]
  },
  {
   "cell_type": "code",
   "execution_count": 6,
   "id": "86e0e193",
   "metadata": {},
   "outputs": [],
   "source": [
    "def categorize_inquiry(support_state: MultiAgent) -> MultiAgent:\n",
    "    \"\"\"\n",
    "    Classify the customer query into [\"employee\", \"engineer\", \"hr\", \"finance\", \"marketing\"].\n",
    "    \"\"\"\n",
    "\n",
    "    query_list = support_state[\"user_query\"]\n",
    "\n",
    "    if isinstance(query_list, list):\n",
    "        # Grab the last HumanMessage\n",
    "        if isinstance(query_list[-1], HumanMessage):\n",
    "            query_text = query_list[-1].content\n",
    "        else:\n",
    "            query_text = str(query_list[-1])\n",
    "    else:\n",
    "        query_text = str(query_list)  # fallback if already string\n",
    "\n",
    "    ROUTE_CATEGORY_PROMPT = \"\"\"\n",
    "    You are an expert document classifier. Your task is to analyze the given text and classify it into one of these categories based on its content:\n",
    "\n",
    "    1. **Employee** - General employee information, policies, handbooks, or guidelines that apply to all employees regardless of department. This includes company-wide communications, general workplace policies, employee benefits, and onboarding materials.\n",
    "    \n",
    "    2. **Engineer** - Technical documentation, system architecture, code repositories, engineering guidelines, API documentation, technical specifications, or any content related to software/hardware development and engineering practices.\n",
    "\n",
    "    3. **HR** - Human Resources specific content including employee records, performance reviews, recruitment, training materials, employee relations, compensation, benefits administration, and organizational development.\n",
    "\n",
    "    4. **Finance** - Financial reports, budgets, expense reports, accounting documents, financial statements, investment strategies, cost analysis, and any content related to monetary transactions or financial planning.\n",
    "\n",
    "    5. **Marketing** - Marketing strategies, campaign reports, market research, advertising materials, brand guidelines, social media content, customer engagement strategies, and sales enablement materials.\n",
    "\n",
    "    **Classification Guidelines:**\n",
    "    - Focus on the primary purpose and content of the document\n",
    "    - Consider the intended audience\n",
    "    - Look for domain-specific terminology and concepts\n",
    "    - Pay attention to document structure and formatting\n",
    "    - Consider the document's context within the organization\n",
    "\n",
    "    **Examples:**\n",
    "    - Employee handbook with general policies → \"employee\"\n",
    "    - Technical architecture document → \"engineer\"\n",
    "    - Payroll records or employee performance reviews → \"HR\"\n",
    "    - Quarterly financial statements → \"finance\"\n",
    "    - Campaign performance report → \"marketing\"\n",
    "\n",
    "    **Output Format:**\n",
    "    Provide your classification as a single word from the categories above, in lowercase, without any additional text or explanation.\n",
    "\n",
    "    Now categorize this query:\n",
    "    {user_query}\n",
    "    \"\"\"\n",
    "\n",
    "\n",
    "    prompt = ROUTE_CATEGORY_PROMPT.format(user_query=query_text)\n",
    "    route_category = llm.with_structured_output(QueryCategory).invoke(prompt)\n",
    "    return {\n",
    "        \"rag_query_category\": route_category.categorized_topic\n",
    "    }"
   ]
  },
  {
   "cell_type": "code",
   "execution_count": 7,
   "id": "acdd10f9",
   "metadata": {},
   "outputs": [
    {
     "name": "stdout",
     "output_type": "stream",
     "text": [
      "Number of documents in collection: 195\n"
     ]
    }
   ],
   "source": [
    "from langchain_openai import ChatOpenAI\n",
    "\n",
    "llm = ChatOpenAI(model=\"gpt-4o\", temperature=0)\n",
    "# details here: https://openai.com/blog/new-embedding-models-and-api-updates\n",
    "openai_embed_model = OpenAIEmbeddings(model='text-embedding-3-small')\n",
    "\n",
    "# load from disk\n",
    "collection_info = \"rbac_rag_store\"\n",
    "chroma_db = Chroma(persist_directory=\"/home/sathish/Learning/Core_Developments/AI_Agents/Assignment_langgraph/code/my_db5\",\n",
    "                   collection_name = collection_info,\n",
    "                   embedding_function=openai_embed_model)\n",
    "\n",
    "print(f\"Number of documents in collection: {chroma_db._collection.count()}\")"
   ]
  },
  {
   "cell_type": "code",
   "execution_count": 8,
   "id": "8a402dc3",
   "metadata": {},
   "outputs": [],
   "source": [
    "def generate_employee_response(support_state: MultiAgent) -> MultiAgent:\n",
    "    \"\"\"\n",
    "    Provide a technical support response by combining knowledge from the vector store and LLM.\n",
    "    \"\"\"\n",
    "    # Retrieve category and ensure it is lowercase for metadata filtering\n",
    "    categorized_topic = support_state[\"rag_query_category\"]\n",
    "    query_list = support_state[\"user_query\"]\n",
    "\n",
    "    if isinstance(query_list, list):\n",
    "        # Grab the last HumanMessage\n",
    "        if isinstance(query_list[-1], HumanMessage):\n",
    "            query_text = query_list[-1].content\n",
    "        else:\n",
    "            query_text = str(query_list[-1])\n",
    "    else:\n",
    "        query_text = str(query_list)  # fallback if already string\n",
    "\n",
    "    print(f'Actual Question {query_text} and catgeory {categorized_topic}')    # Use metadata filter for 'technical' queries\n",
    "    try:\n",
    "        # Knowledge Base\n",
    "        kbase_search = chroma_db.as_retriever(\n",
    "                search_type=\"similarity\",\n",
    "                search_kwargs={\"k\": 3, \"filter\": {\"access_level\": categorized_topic}}\n",
    "            )\n",
    "        # Perform retrieval from VectorDB\n",
    "        relevant_docs = kbase_search.invoke(query_text)\n",
    "        retrieved_content = \"\\n\\n\".join(doc.page_content for doc in relevant_docs)\n",
    "    except:\n",
    "        # For non-technical queries, provide a default response or a general handling\n",
    "        retrieved_content = \"Apologies I was not able to extract relevant documents, please reach out to +91-123-4567\"\n",
    "\n",
    "    # Update and return the modified support state\n",
    "    return {\n",
    "        \"documents\": [retrieved_content],\"query_category\":\"RAG_Based\"\n",
    "    }\n",
    "\n"
   ]
  },
  {
   "cell_type": "code",
   "execution_count": 9,
   "id": "86719949",
   "metadata": {},
   "outputs": [],
   "source": [
    "def generate_engineer_response(support_state: MultiAgent) -> MultiAgent:\n",
    "    \"\"\"\n",
    "    Provide a technical support response by combining knowledge from the vector store and LLM.\n",
    "    \"\"\"\n",
    "    # Retrieve category and ensure it is lowercase for metadata filtering\n",
    "\n",
    "    categorized_topic = support_state[\"rag_query_category\"]\n",
    "    query_list = support_state[\"user_query\"]\n",
    "\n",
    "    if isinstance(query_list, list):\n",
    "        # Grab the last HumanMessage\n",
    "        if isinstance(query_list[-1], HumanMessage):\n",
    "            query_text = query_list[-1].content\n",
    "        else:\n",
    "            query_text = str(query_list[-1])\n",
    "    else:\n",
    "        query_text = str(query_list)  # fallback if already string\n",
    "\n",
    "    print(f'Actual Question {query_text} and catgeory {categorized_topic}')    # Use metadata filter for 'technical' queries\n",
    "    try:\n",
    "        \n",
    "        # Knowledge Base\n",
    "        kbase_search = chroma_db.as_retriever(\n",
    "                search_type=\"similarity\",\n",
    "                search_kwargs={\"k\": 3, \"filter\": {\"access_level\": categorized_topic}}\n",
    "            )\n",
    "        # Perform retrieval from VectorDB\n",
    "        relevant_docs = kbase_search.invoke(query_text)\n",
    "        retrieved_content = \"\\n\\n\".join(doc.page_content for doc in relevant_docs)\n",
    "    except:\n",
    "        # For non-technical queries, provide a default response or a general handling\n",
    "        retrieved_content = \"Apologies I was not able to extract relevant documents, please reach out to +91-123-4567\"\n",
    "\n",
    "    # Update and return the modified support state\n",
    "    return {\n",
    "        \"documents\": [retrieved_content],\"query_category\":\"RAG_Based\"\n",
    "    }\n"
   ]
  },
  {
   "cell_type": "code",
   "execution_count": 10,
   "id": "c87f4037",
   "metadata": {},
   "outputs": [],
   "source": [
    "def generate_hr_response(support_state: MultiAgent) -> MultiAgent:\n",
    "    \"\"\"\n",
    "    Provide a technical support response by combining knowledge from the vector store and LLM.\n",
    "    \"\"\"\n",
    "    # Retrieve category and ensure it is lowercase for metadata filtering\n",
    "\n",
    "    categorized_topic = support_state[\"rag_query_category\"]\n",
    "    query_list = support_state[\"user_query\"]\n",
    "\n",
    "    if isinstance(query_list, list):\n",
    "        # Grab the last HumanMessage\n",
    "        if isinstance(query_list[-1], HumanMessage):\n",
    "            query_text = query_list[-1].content\n",
    "        else:\n",
    "            query_text = str(query_list[-1])\n",
    "    else:\n",
    "        query_text = str(query_list)  # fallback if already string\n",
    "\n",
    "    print(f'Actual Question {query_text} and catgeory {categorized_topic}')    # Use metadata filter for 'technical' queries\n",
    "\n",
    "    # Use metadata filter for 'technical' queries\n",
    "    try:        \n",
    "        # Knowledge Base\n",
    "        kbase_search = chroma_db.as_retriever(\n",
    "                search_type=\"similarity\",\n",
    "                search_kwargs={\"k\": 3, \"filter\": {\"access_level\": categorized_topic}}\n",
    "            )\n",
    "        # Perform retrieval from VectorDB\n",
    "        relevant_docs = kbase_search.invoke(query_text)\n",
    "        retrieved_content = \"\\n\\n\".join(doc.page_content for doc in relevant_docs)\n",
    "    except Exception as e:\n",
    "        # For non-technical queries, provide a default response or a general handling\n",
    "        retrieved_content = f\"Apologies I was not able to extract relevant documents, please reach out to +91-123-4567 - Reason {e}\"\n",
    "\n",
    "    # Update and return the modified support state\n",
    "    return {\n",
    "        \"documents\": [retrieved_content],\"query_category\":\"RAG_Based\"\n",
    "    }\n"
   ]
  },
  {
   "cell_type": "code",
   "execution_count": 11,
   "id": "c22c0611",
   "metadata": {},
   "outputs": [],
   "source": [
    "def generate_finance_response(support_state: MultiAgent) -> MultiAgent:\n",
    "    \"\"\"\n",
    "    Provide a technical support response by combining knowledge from the vector store and LLM.\n",
    "    \"\"\"\n",
    "    # Retrieve category and ensure it is lowercase for metadata filtering\n",
    "\n",
    "    categorized_topic = support_state[\"rag_query_category\"]\n",
    "    query_list = support_state[\"user_query\"]\n",
    "\n",
    "    if isinstance(query_list, list):\n",
    "        # Grab the last HumanMessage\n",
    "        if isinstance(query_list[-1], HumanMessage):\n",
    "            query_text = query_list[-1].content\n",
    "        else:\n",
    "            query_text = str(query_list[-1])\n",
    "    else:\n",
    "        query_text = str(query_list)  # fallback if already string\n",
    "\n",
    "    print(f'Actual Question {query_text} and catgeory {categorized_topic}')    # Use metadata filter for 'technical' queries\n",
    "    # Use metadata filter for 'technical' queries\n",
    "    try:\n",
    "        # Knowledge Base\n",
    "        kbase_search = chroma_db.as_retriever(\n",
    "                search_type=\"similarity\",\n",
    "                search_kwargs={\"k\": 3, \"filter\": {\"access_level\": categorized_topic}}\n",
    "            )\n",
    "        # Perform retrieval from VectorDB\n",
    "        relevant_docs = kbase_search.invoke(query_text)\n",
    "        retrieved_content = \"\\n\\n\".join(doc.page_content for doc in relevant_docs)\n",
    "    except:\n",
    "        # For non-technical queries, provide a default response or a general handling\n",
    "        retrieved_content = \"Apologies I was not able to extract relevant documents, please reach out to +91-123-4567\"\n",
    "\n",
    "    # Update and return the modified support state\n",
    "    return {\n",
    "        \"documents\": [retrieved_content],\"query_category\":\"RAG_Based\"\n",
    "    }\n"
   ]
  },
  {
   "cell_type": "code",
   "execution_count": 12,
   "id": "051d0140",
   "metadata": {},
   "outputs": [],
   "source": [
    "def generate_marketing_response(support_state: MultiAgent) -> MultiAgent:\n",
    "    \"\"\"\n",
    "    Provide a technical support response by combining knowledge from the vector store and LLM.\n",
    "    \"\"\"\n",
    "    # Retrieve category and ensure it is lowercase for metadata filtering\n",
    "\n",
    "    categorized_topic = support_state[\"rag_query_category\"]\n",
    "    query_list = support_state[\"user_query\"]\n",
    "\n",
    "    if isinstance(query_list, list):\n",
    "        # Grab the last HumanMessage\n",
    "        if isinstance(query_list[-1], HumanMessage):\n",
    "            query_text = query_list[-1].content\n",
    "        else:\n",
    "            query_text = str(query_list[-1])\n",
    "    else:\n",
    "        query_text = str(query_list)  # fallback if already string\n",
    "\n",
    "    print(f'Actual Question {query_text} and catgeory {categorized_topic}')    # Use metadata filter for 'technical' queries\n",
    "    # Use metadata filter for 'technical' queries\n",
    "    try:\n",
    "        # Knowledge Base\n",
    "        kbase_search = chroma_db.as_retriever(\n",
    "                search_type=\"similarity\",\n",
    "                search_kwargs={\"k\": 3, \"filter\": {\"access_level\": categorized_topic}}\n",
    "            )\n",
    "        # Perform retrieval from VectorDB\n",
    "        relevant_docs = kbase_search.invoke(query_text)\n",
    "        retrieved_content = \"\\n\\n\".join(doc.page_content for doc in relevant_docs)\n",
    "    except:\n",
    "        # For non-technical queries, provide a default response or a general handling\n",
    "        retrieved_content = \"Apologies I was not able to extract relevant documents, please reach out to +91-123-4567\"\n",
    "\n",
    "    # Update and return the modified support state\n",
    "    return {\n",
    "        \"documents\": [retrieved_content],\"query_category\":\"RAG_Based\"\n",
    "    }\n"
   ]
  },
  {
   "cell_type": "markdown",
   "id": "3a8a3592",
   "metadata": {},
   "source": [
    "## WebSearch setup"
   ]
  },
  {
   "cell_type": "code",
   "execution_count": null,
   "id": "d24e02ee",
   "metadata": {},
   "outputs": [],
   "source": [
    "\n",
    "PRONOUN_PATTERN = re.compile(\n",
    "    r\"\\b(he|him|his|she|her|hers|they|them|their|theirs|it|its|this|that|those|these)\\b\",\n",
    "    flags=re.IGNORECASE)\n",
    "PROPER_NOUN_PATTERN = re.compile(r\"\\b[A-Z][a-z]+\\b\")\n",
    "\n",
    "def search_web(state: MultiAgent) -> MultiAgent:\n",
    "    \"\"\" Retrieve docs from web search (with optional LLM rewrite for pronouns).\n",
    "        Only rewrites when the query appears ambiguous (contains pronoun) and context exists.\n",
    "    \"\"\"\n",
    "    print('--Getting Info from the Web--')\n",
    "\n",
    "    # 1) extract last user text (original logic)\n",
    "    query_list = state.get(\"user_query\")\n",
    "\n",
    "    if isinstance(query_list, list):\n",
    "        # Grab the last HumanMessage\n",
    "        last = query_list[-1] if query_list else None\n",
    "        if isinstance(last, HumanMessage) or getattr(last, \"content\", None) is not None:\n",
    "            query_text = getattr(last, \"content\", str(last))\n",
    "        else:\n",
    "            query_text = str(last)\n",
    "    else:\n",
    "        query_text = str(query_list)\n",
    "\n",
    "    # Normalize whitespace\n",
    "    query_text = (query_text or \"\").strip()\n",
    "    print(\"Raw extracted query:\", query_text)\n",
    "\n",
    "    # Decide whether to attempt rewrite:\n",
    "    # - we only rewrite if the user query contains a pronoun (ambiguous)\n",
    "    # - AND the query does NOT already contain a proper noun (likely explicit)\n",
    "    # - AND there is some message history to resolve against (user_query list length > 1)\n",
    "    should_rewrite = False\n",
    "    if query_text and PRONOUN_PATTERN.search(query_text):\n",
    "        print('Started Attempt of rewrite')\n",
    "        contains_proper_noun = bool(PROPER_NOUN_PATTERN.search(query_text))\n",
    "        has_history = isinstance(query_list, list) and len(query_list) > 1\n",
    "        print(contains_proper_noun,has_history)\n",
    "        if contains_proper_noun and has_history:\n",
    "            should_rewrite = True\n",
    "\n",
    "    # 2) attempt to rewrite only if needed\n",
    "    if should_rewrite:\n",
    "        print('-------------------------LLM REWRITE STARTED---------------------')\n",
    "        try:\n",
    "            # build a compact trimmed context from user_query (last 4 items)\n",
    "            trimmed_msgs = (query_list[-4:] if isinstance(query_list, list) else [query_text]) or []\n",
    "            compact = []\n",
    "            for m in trimmed_msgs:\n",
    "                if isinstance(m, HumanMessage):\n",
    "                    compact.append(f\"HumanMessage(content=\\\"{m.content}\\\")\")\n",
    "                elif isinstance(m, AIMessage):\n",
    "                    compact.append(f\"AIMessage(content=\\\"{m.content}\\\")\")\n",
    "                elif isinstance(m, dict):\n",
    "                    compact.append(f\"{m.get('role','unknown')}:{m.get('content')}\")\n",
    "                else:\n",
    "                    compact.append(str(m))\n",
    "\n",
    "            rewrite_prompt = f\"\"\"\n",
    "                Rewrite the user query to be self-contained, replacing pronouns with explicit entities.\n",
    "                Keep the rewritten query short (one sentence) and return only the rewritten query.\n",
    "\n",
    "                Conversation (most recent first):\n",
    "                {compact}\n",
    "\n",
    "                Original query:\n",
    "                {query_text}\n",
    "                \"\"\"\n",
    "            rewritten_result = llm.with_structured_output(query_rewrite).invoke(rewrite_prompt)\n",
    "            rewritten_text = rewritten_result[\"query_rewritten\"]           \n",
    "            if isinstance(rewritten_text, str) and rewritten_text.strip():\n",
    "                print(\"Rewriter produced:\", rewritten_text.strip())\n",
    "                query_text = rewritten_text.strip()\n",
    "            else:\n",
    "                print(\"Rewriter returned empty — using original query.\")\n",
    "        except Exception as e:\n",
    "            print(\"LLM rewrite failed; continuing with original query. Error:\", e)\n",
    "    else:\n",
    "        print('-------------------------LLM REWRITE NOT STARTED---------------------')\n",
    "\n",
    "    print(\"Current websearch question\", query_text)\n",
    "\n",
    "    # 3) perform the web search (your existing logic)\n",
    "    try:\n",
    "        tavily_search = TavilySearchResults(max_results=3, include_raw_content=False)\n",
    "        search_docs = tavily_search.invoke(query_text)\n",
    "\n",
    "        # Format\n",
    "        formatted_search_docs = \"\\n\\n---\\n\\n\".join(\n",
    "            [\n",
    "                f'''Content: {doc['content']}\\nSource: {doc['url']}'''\n",
    "                for doc in search_docs\n",
    "            ]\n",
    "        )\n",
    "        return {\"documents\": [formatted_search_docs], \"query_category\": \"web_search\"}\n",
    "    except Exception as e:\n",
    "        print(f'ERROR - Websearch issue {e}')\n",
    "        return {\n",
    "            \"documents\": [\"Apologies I was not able to extract relevant documents, please reach out to +91-123-4567\"],\n",
    "            \"query_category\": \"web_search\"\n",
    "        }\n",
    "\n"
   ]
  },
  {
   "cell_type": "code",
   "execution_count": 39,
   "id": "4f570387",
   "metadata": {},
   "outputs": [],
   "source": [
    "## Summarizse the result using retrieved document\n",
    "def generate_answer(state:MultiAgent):\n",
    "\n",
    "    \"\"\" Node to answer a question \"\"\"\n",
    "    print('--Generating final answer--')\n",
    "\n",
    "    # Get state\n",
    "    context = state[\"documents\"]\n",
    "    query_list = state[\"user_query\"]\n",
    "\n",
    "    if isinstance(query_list, list):\n",
    "        # Grab the last HumanMessage\n",
    "        if isinstance(query_list[-1], HumanMessage):\n",
    "            query_text = query_list[-1].content\n",
    "        else:\n",
    "            query_text = str(query_list[-1])\n",
    "    else:\n",
    "        query_text = str(query_list)\n",
    "    \n",
    "    # Template\n",
    "    answer_template = \"\"\"Answer the question {question}\n",
    "                         using these context documents: {context}\n",
    "                         \"\"\"\n",
    "    print(\"Current websearch question from Generation\", query_text)\n",
    "    answer_instructions = answer_template.format(question=query_text,\n",
    "                                                       context=context)\n",
    "\n",
    "    # Answer\n",
    "    answer = llm.invoke([SystemMessage(content=answer_instructions)]+[HumanMessage(content=f\"Answer the question.\")])\n",
    "    state[\"final_response\"] = answer\n",
    "    state[\"user_query\"] = answer\n",
    "\n",
    "    # Append it to state\n",
    "    return state\n",
    "\n",
    "\n",
    "from rich.console import Console\n",
    "from rich.panel import Panel\n",
    "from rich.table import Table\n",
    "from rich.markdown import Markdown as RichMarkdown\n",
    "\n",
    "console = Console()\n",
    "\n",
    "def display_multiagent_state(state: dict):\n",
    "    \"\"\"\n",
    "    Pretty display for MultiAgent state according to schema:\n",
    "      - user_query\n",
    "      - final_response\n",
    "      - query_category\n",
    "      - rag_query_category\n",
    "    \"\"\"\n",
    "    console.print(\"[bold cyan]=== Agent State ===[/bold cyan]\\n\")\n",
    "\n",
    "    # --- User query ---\n",
    "    console.print(RichMarkdown(f\"**User Query:**\\n\\n> {state.get('user_query', '')}\"))\n",
    "\n",
    "    # --- Final response ---\n",
    "    final_resp = state.get(\"final_response\")\n",
    "    if hasattr(final_resp, \"content\"):  # handle AIMessage\n",
    "        final_resp = final_resp.content\n",
    "    elif isinstance(final_resp, dict) and \"content\" in final_resp:\n",
    "        final_resp = final_resp[\"content\"]\n",
    "\n",
    "    console.print(Panel(str(final_resp or \"_(no response)_\"),\n",
    "                        title=\"[bold green]Final Response[/bold green]\",\n",
    "                        expand=False))\n",
    "\n",
    "    # --- Metadata table ---\n",
    "    meta_table = Table(show_header=True, header_style=\"bold magenta\")\n",
    "    meta_table.add_column(\"Field\", style=\"cyan\", no_wrap=True)\n",
    "    meta_table.add_column(\"Value\", style=\"white\")\n",
    "\n",
    "    meta_table.add_row(\"Query Category\", str(state.get(\"query_category\", \"None\")))\n",
    "    meta_table.add_row(\"RAG Query Category\", str(state.get(\"rag_query_category\", \"None\")))\n",
    "\n",
    "    console.print(meta_table)\n",
    "\n",
    "    # --- Optional: show how many docs were retrieved ---\n",
    "    docs = state.get(\"documents\", [])\n",
    "    if docs:\n",
    "        console.print(f\"[dim]Retrieved {len(docs)} document(s)[/dim]\")\n",
    "\n",
    "    console.print(\"\\n[bold cyan]========================[/bold cyan]\\n\")"
   ]
  },
  {
   "cell_type": "markdown",
   "id": "68cf8858",
   "metadata": {},
   "source": [
    "## Build Graph"
   ]
  },
  {
   "cell_type": "code",
   "execution_count": 40,
   "id": "28f53ea4",
   "metadata": {},
   "outputs": [],
   "source": [
    "def determine_route(support_state: MultiAgent) -> str:\n",
    "    \"\"\"\n",
    "    Route the inquiry based on sentiment and category.\n",
    "    \"\"\"\n",
    "    if support_state[\"rag_query_category\"] == \"employee\":\n",
    "        return \"generate_employee_response\"\n",
    "    elif support_state[\"rag_query_category\"] == \"engineer\":\n",
    "        return \"generate_engineer_response\"\n",
    "    elif support_state[\"rag_query_category\"] == \"hr\":\n",
    "        return \"generate_hr_response\"\n",
    "    elif support_state[\"rag_query_category\"] == \"finance\":\n",
    "        return \"generate_finance_response\"\n",
    "    else:\n",
    "        return \"generate_marketing_response\"\n",
    "    \n"
   ]
  },
  {
   "cell_type": "code",
   "execution_count": 41,
   "id": "ddc77f27",
   "metadata": {},
   "outputs": [],
   "source": [
    "## Graph design\n",
    "workflow = StateGraph(MultiAgent)\n",
    "\n",
    "# add nodes - rag based\n",
    "workflow.add_node(\"categorize_inquiry\",categorize_inquiry)\n",
    "workflow.add_node(\"generate_employee_response\",generate_employee_response)\n",
    "workflow.add_node(\"generate_engineer_response\",generate_engineer_response)\n",
    "workflow.add_node(\"generate_hr_response\",generate_hr_response)\n",
    "workflow.add_node(\"generate_finance_response\",generate_finance_response)\n",
    "workflow.add_node(\"generate_marketing_response\",generate_marketing_response)\n",
    "\n",
    "# add node - Websearch\n",
    "workflow.add_node(\"search_web\",search_web)\n",
    "\n",
    "# add node - generate answer\n",
    "workflow.add_node(\"generate_answer\",generate_answer)\n",
    "\n",
    "\n",
    "# Set the entry point for the workflow\n",
    "workflow.add_conditional_edges(START,route_question,[\"categorize_inquiry\",\"search_web\"])\n",
    "\n",
    "# RAG flow\n",
    "workflow.add_conditional_edges(\"categorize_inquiry\",\n",
    "                                             determine_route,\n",
    "                                             [\n",
    "                                                 \"generate_employee_response\",\n",
    "                                                 \"generate_engineer_response\",\n",
    "                                                 \"generate_hr_response\",\n",
    "                                                 \"generate_finance_response\",\n",
    "                                                 \"generate_marketing_response\"\n",
    "                                             ]\n",
    "                                             )\n",
    "workflow.add_edge(\"generate_employee_response\",\"generate_answer\")\n",
    "workflow.add_edge(\"generate_engineer_response\",\"generate_answer\")\n",
    "workflow.add_edge(\"generate_hr_response\",\"generate_answer\")\n",
    "workflow.add_edge(\"generate_finance_response\",\"generate_answer\")\n",
    "workflow.add_edge(\"generate_marketing_response\",\"generate_answer\")\n",
    "\n",
    "# Websearch flow\n",
    "workflow.add_edge(\"search_web\",\"generate_answer\")\n",
    "\n",
    "workflow.add_edge(\"generate_answer\",END)\n",
    "\n",
    "#Compile\n",
    "# add in-memory persistence (transient memory)\n",
    "memory = MemorySaver()\n",
    "app = workflow.compile(checkpointer=memory)\n",
    "\n",
    "mermaid_src = app.get_graph().draw_mermaid()"
   ]
  },
  {
   "cell_type": "code",
   "execution_count": 42,
   "id": "63f08c74",
   "metadata": {},
   "outputs": [
    {
     "data": {
      "text/html": [
       "<pre style=\"white-space:pre;overflow-x:auto;line-height:normal;font-family:Menlo,'DejaVu Sans Mono',consolas,'Courier New',monospace\"><span style=\"background-color: #272822\">                                                                                                                   \n",
       " </span><span style=\"color: #f8f8f2; text-decoration-color: #f8f8f2; background-color: #272822\">graph TD;</span><span style=\"background-color: #272822\">                                                                                                         </span>\n",
       "<span style=\"background-color: #272822\"> </span><span style=\"color: #f8f8f2; text-decoration-color: #f8f8f2; background-color: #272822\">    __start__([&lt;p&gt;__start__&lt;/p&gt;]):::first</span><span style=\"background-color: #272822\">                                                                         </span>\n",
       "<span style=\"background-color: #272822\"> </span><span style=\"color: #f8f8f2; text-decoration-color: #f8f8f2; background-color: #272822\">    categorize_inquiry(categorize_inquiry)</span><span style=\"background-color: #272822\">                                                                        </span>\n",
       "<span style=\"background-color: #272822\"> </span><span style=\"color: #f8f8f2; text-decoration-color: #f8f8f2; background-color: #272822\">    generate_employee_response(generate_employee_response)</span><span style=\"background-color: #272822\">                                                        </span>\n",
       "<span style=\"background-color: #272822\"> </span><span style=\"color: #f8f8f2; text-decoration-color: #f8f8f2; background-color: #272822\">    generate_engineer_response(generate_engineer_response)</span><span style=\"background-color: #272822\">                                                        </span>\n",
       "<span style=\"background-color: #272822\"> </span><span style=\"color: #f8f8f2; text-decoration-color: #f8f8f2; background-color: #272822\">    generate_hr_response(generate_hr_response)</span><span style=\"background-color: #272822\">                                                                    </span>\n",
       "<span style=\"background-color: #272822\"> </span><span style=\"color: #f8f8f2; text-decoration-color: #f8f8f2; background-color: #272822\">    generate_finance_response(generate_finance_response)</span><span style=\"background-color: #272822\">                                                          </span>\n",
       "<span style=\"background-color: #272822\"> </span><span style=\"color: #f8f8f2; text-decoration-color: #f8f8f2; background-color: #272822\">    generate_marketing_response(generate_marketing_response)</span><span style=\"background-color: #272822\">                                                      </span>\n",
       "<span style=\"background-color: #272822\"> </span><span style=\"color: #f8f8f2; text-decoration-color: #f8f8f2; background-color: #272822\">    search_web(search_web)</span><span style=\"background-color: #272822\">                                                                                        </span>\n",
       "<span style=\"background-color: #272822\"> </span><span style=\"color: #f8f8f2; text-decoration-color: #f8f8f2; background-color: #272822\">    generate_answer(generate_answer)</span><span style=\"background-color: #272822\">                                                                              </span>\n",
       "<span style=\"background-color: #272822\"> </span><span style=\"color: #f8f8f2; text-decoration-color: #f8f8f2; background-color: #272822\">    __end__([&lt;p&gt;__end__&lt;/p&gt;]):::last</span><span style=\"background-color: #272822\">                                                                              </span>\n",
       "<span style=\"background-color: #272822\"> </span><span style=\"color: #f8f8f2; text-decoration-color: #f8f8f2; background-color: #272822\">    generate_answer --&gt; __end__;</span><span style=\"background-color: #272822\">                                                                                  </span>\n",
       "<span style=\"background-color: #272822\"> </span><span style=\"color: #f8f8f2; text-decoration-color: #f8f8f2; background-color: #272822\">    generate_employee_response --&gt; generate_answer;</span><span style=\"background-color: #272822\">                                                               </span>\n",
       "<span style=\"background-color: #272822\"> </span><span style=\"color: #f8f8f2; text-decoration-color: #f8f8f2; background-color: #272822\">    generate_engineer_response --&gt; generate_answer;</span><span style=\"background-color: #272822\">                                                               </span>\n",
       "<span style=\"background-color: #272822\"> </span><span style=\"color: #f8f8f2; text-decoration-color: #f8f8f2; background-color: #272822\">    generate_finance_response --&gt; generate_answer;</span><span style=\"background-color: #272822\">                                                                </span>\n",
       "<span style=\"background-color: #272822\"> </span><span style=\"color: #f8f8f2; text-decoration-color: #f8f8f2; background-color: #272822\">    generate_hr_response --&gt; generate_answer;</span><span style=\"background-color: #272822\">                                                                     </span>\n",
       "<span style=\"background-color: #272822\"> </span><span style=\"color: #f8f8f2; text-decoration-color: #f8f8f2; background-color: #272822\">    generate_marketing_response --&gt; generate_answer;</span><span style=\"background-color: #272822\">                                                              </span>\n",
       "<span style=\"background-color: #272822\"> </span><span style=\"color: #f8f8f2; text-decoration-color: #f8f8f2; background-color: #272822\">    search_web --&gt; generate_answer;</span><span style=\"background-color: #272822\">                                                                               </span>\n",
       "<span style=\"background-color: #272822\"> </span><span style=\"color: #f8f8f2; text-decoration-color: #f8f8f2; background-color: #272822\">    __start__ -.-&gt; categorize_inquiry;</span><span style=\"background-color: #272822\">                                                                            </span>\n",
       "<span style=\"background-color: #272822\"> </span><span style=\"color: #f8f8f2; text-decoration-color: #f8f8f2; background-color: #272822\">    __start__ -.-&gt; search_web;</span><span style=\"background-color: #272822\">                                                                                    </span>\n",
       "<span style=\"background-color: #272822\"> </span><span style=\"color: #f8f8f2; text-decoration-color: #f8f8f2; background-color: #272822\">    categorize_inquiry -.-&gt; generate_employee_response;</span><span style=\"background-color: #272822\">                                                           </span>\n",
       "<span style=\"background-color: #272822\"> </span><span style=\"color: #f8f8f2; text-decoration-color: #f8f8f2; background-color: #272822\">    categorize_inquiry -.-&gt; generate_engineer_response;</span><span style=\"background-color: #272822\">                                                           </span>\n",
       "<span style=\"background-color: #272822\"> </span><span style=\"color: #f8f8f2; text-decoration-color: #f8f8f2; background-color: #272822\">    categorize_inquiry -.-&gt; generate_hr_response;</span><span style=\"background-color: #272822\">                                                                 </span>\n",
       "<span style=\"background-color: #272822\"> </span><span style=\"color: #f8f8f2; text-decoration-color: #f8f8f2; background-color: #272822\">    categorize_inquiry -.-&gt; generate_finance_response;</span><span style=\"background-color: #272822\">                                                            </span>\n",
       "<span style=\"background-color: #272822\"> </span><span style=\"color: #f8f8f2; text-decoration-color: #f8f8f2; background-color: #272822\">    categorize_inquiry -.-&gt; generate_marketing_response;</span><span style=\"background-color: #272822\">                                                          </span>\n",
       "<span style=\"background-color: #272822\"> </span><span style=\"color: #f8f8f2; text-decoration-color: #f8f8f2; background-color: #272822\">    classDef default fill:#f2f0ff,line-height:1.2</span><span style=\"background-color: #272822\">                                                                 </span>\n",
       "<span style=\"background-color: #272822\"> </span><span style=\"color: #f8f8f2; text-decoration-color: #f8f8f2; background-color: #272822\">    classDef first fill-opacity:0</span><span style=\"background-color: #272822\">                                                                                 </span>\n",
       "<span style=\"background-color: #272822\"> </span><span style=\"color: #f8f8f2; text-decoration-color: #f8f8f2; background-color: #272822\">    classDef last fill:#bfb6fc</span><span style=\"background-color: #272822\">                                                                                    </span>\n",
       "<span style=\"background-color: #272822\">                                                                                                                   \n",
       "</span></pre>\n"
      ],
      "text/plain": [
       "\u001b[48;2;39;40;34m                                                                                                                   \n",
       "\u001b[0m\u001b[48;2;39;40;34m \u001b[0m\u001b[38;2;248;248;242;48;2;39;40;34mgraph TD;\u001b[0m\u001b[48;2;39;40;34m                                                                                                        \u001b[0m\u001b[48;2;39;40;34m \u001b[0m\n",
       "\u001b[48;2;39;40;34m \u001b[0m\u001b[38;2;248;248;242;48;2;39;40;34m    __start__([<p>__start__</p>]):::first\u001b[0m\u001b[48;2;39;40;34m                                                                        \u001b[0m\u001b[48;2;39;40;34m \u001b[0m\n",
       "\u001b[48;2;39;40;34m \u001b[0m\u001b[38;2;248;248;242;48;2;39;40;34m    categorize_inquiry(categorize_inquiry)\u001b[0m\u001b[48;2;39;40;34m                                                                       \u001b[0m\u001b[48;2;39;40;34m \u001b[0m\n",
       "\u001b[48;2;39;40;34m \u001b[0m\u001b[38;2;248;248;242;48;2;39;40;34m    generate_employee_response(generate_employee_response)\u001b[0m\u001b[48;2;39;40;34m                                                       \u001b[0m\u001b[48;2;39;40;34m \u001b[0m\n",
       "\u001b[48;2;39;40;34m \u001b[0m\u001b[38;2;248;248;242;48;2;39;40;34m    generate_engineer_response(generate_engineer_response)\u001b[0m\u001b[48;2;39;40;34m                                                       \u001b[0m\u001b[48;2;39;40;34m \u001b[0m\n",
       "\u001b[48;2;39;40;34m \u001b[0m\u001b[38;2;248;248;242;48;2;39;40;34m    generate_hr_response(generate_hr_response)\u001b[0m\u001b[48;2;39;40;34m                                                                   \u001b[0m\u001b[48;2;39;40;34m \u001b[0m\n",
       "\u001b[48;2;39;40;34m \u001b[0m\u001b[38;2;248;248;242;48;2;39;40;34m    generate_finance_response(generate_finance_response)\u001b[0m\u001b[48;2;39;40;34m                                                         \u001b[0m\u001b[48;2;39;40;34m \u001b[0m\n",
       "\u001b[48;2;39;40;34m \u001b[0m\u001b[38;2;248;248;242;48;2;39;40;34m    generate_marketing_response(generate_marketing_response)\u001b[0m\u001b[48;2;39;40;34m                                                     \u001b[0m\u001b[48;2;39;40;34m \u001b[0m\n",
       "\u001b[48;2;39;40;34m \u001b[0m\u001b[38;2;248;248;242;48;2;39;40;34m    search_web(search_web)\u001b[0m\u001b[48;2;39;40;34m                                                                                       \u001b[0m\u001b[48;2;39;40;34m \u001b[0m\n",
       "\u001b[48;2;39;40;34m \u001b[0m\u001b[38;2;248;248;242;48;2;39;40;34m    generate_answer(generate_answer)\u001b[0m\u001b[48;2;39;40;34m                                                                             \u001b[0m\u001b[48;2;39;40;34m \u001b[0m\n",
       "\u001b[48;2;39;40;34m \u001b[0m\u001b[38;2;248;248;242;48;2;39;40;34m    __end__([<p>__end__</p>]):::last\u001b[0m\u001b[48;2;39;40;34m                                                                             \u001b[0m\u001b[48;2;39;40;34m \u001b[0m\n",
       "\u001b[48;2;39;40;34m \u001b[0m\u001b[38;2;248;248;242;48;2;39;40;34m    generate_answer --> __end__;\u001b[0m\u001b[48;2;39;40;34m                                                                                 \u001b[0m\u001b[48;2;39;40;34m \u001b[0m\n",
       "\u001b[48;2;39;40;34m \u001b[0m\u001b[38;2;248;248;242;48;2;39;40;34m    generate_employee_response --> generate_answer;\u001b[0m\u001b[48;2;39;40;34m                                                              \u001b[0m\u001b[48;2;39;40;34m \u001b[0m\n",
       "\u001b[48;2;39;40;34m \u001b[0m\u001b[38;2;248;248;242;48;2;39;40;34m    generate_engineer_response --> generate_answer;\u001b[0m\u001b[48;2;39;40;34m                                                              \u001b[0m\u001b[48;2;39;40;34m \u001b[0m\n",
       "\u001b[48;2;39;40;34m \u001b[0m\u001b[38;2;248;248;242;48;2;39;40;34m    generate_finance_response --> generate_answer;\u001b[0m\u001b[48;2;39;40;34m                                                               \u001b[0m\u001b[48;2;39;40;34m \u001b[0m\n",
       "\u001b[48;2;39;40;34m \u001b[0m\u001b[38;2;248;248;242;48;2;39;40;34m    generate_hr_response --> generate_answer;\u001b[0m\u001b[48;2;39;40;34m                                                                    \u001b[0m\u001b[48;2;39;40;34m \u001b[0m\n",
       "\u001b[48;2;39;40;34m \u001b[0m\u001b[38;2;248;248;242;48;2;39;40;34m    generate_marketing_response --> generate_answer;\u001b[0m\u001b[48;2;39;40;34m                                                             \u001b[0m\u001b[48;2;39;40;34m \u001b[0m\n",
       "\u001b[48;2;39;40;34m \u001b[0m\u001b[38;2;248;248;242;48;2;39;40;34m    search_web --> generate_answer;\u001b[0m\u001b[48;2;39;40;34m                                                                              \u001b[0m\u001b[48;2;39;40;34m \u001b[0m\n",
       "\u001b[48;2;39;40;34m \u001b[0m\u001b[38;2;248;248;242;48;2;39;40;34m    __start__ -.-> categorize_inquiry;\u001b[0m\u001b[48;2;39;40;34m                                                                           \u001b[0m\u001b[48;2;39;40;34m \u001b[0m\n",
       "\u001b[48;2;39;40;34m \u001b[0m\u001b[38;2;248;248;242;48;2;39;40;34m    __start__ -.-> search_web;\u001b[0m\u001b[48;2;39;40;34m                                                                                   \u001b[0m\u001b[48;2;39;40;34m \u001b[0m\n",
       "\u001b[48;2;39;40;34m \u001b[0m\u001b[38;2;248;248;242;48;2;39;40;34m    categorize_inquiry -.-> generate_employee_response;\u001b[0m\u001b[48;2;39;40;34m                                                          \u001b[0m\u001b[48;2;39;40;34m \u001b[0m\n",
       "\u001b[48;2;39;40;34m \u001b[0m\u001b[38;2;248;248;242;48;2;39;40;34m    categorize_inquiry -.-> generate_engineer_response;\u001b[0m\u001b[48;2;39;40;34m                                                          \u001b[0m\u001b[48;2;39;40;34m \u001b[0m\n",
       "\u001b[48;2;39;40;34m \u001b[0m\u001b[38;2;248;248;242;48;2;39;40;34m    categorize_inquiry -.-> generate_hr_response;\u001b[0m\u001b[48;2;39;40;34m                                                                \u001b[0m\u001b[48;2;39;40;34m \u001b[0m\n",
       "\u001b[48;2;39;40;34m \u001b[0m\u001b[38;2;248;248;242;48;2;39;40;34m    categorize_inquiry -.-> generate_finance_response;\u001b[0m\u001b[48;2;39;40;34m                                                           \u001b[0m\u001b[48;2;39;40;34m \u001b[0m\n",
       "\u001b[48;2;39;40;34m \u001b[0m\u001b[38;2;248;248;242;48;2;39;40;34m    categorize_inquiry -.-> generate_marketing_response;\u001b[0m\u001b[48;2;39;40;34m                                                         \u001b[0m\u001b[48;2;39;40;34m \u001b[0m\n",
       "\u001b[48;2;39;40;34m \u001b[0m\u001b[38;2;248;248;242;48;2;39;40;34m    classDef default fill:#f2f0ff,line-height:1.2\u001b[0m\u001b[48;2;39;40;34m                                                                \u001b[0m\u001b[48;2;39;40;34m \u001b[0m\n",
       "\u001b[48;2;39;40;34m \u001b[0m\u001b[38;2;248;248;242;48;2;39;40;34m    classDef first fill-opacity:0\u001b[0m\u001b[48;2;39;40;34m                                                                                \u001b[0m\u001b[48;2;39;40;34m \u001b[0m\n",
       "\u001b[48;2;39;40;34m \u001b[0m\u001b[38;2;248;248;242;48;2;39;40;34m    classDef last fill:#bfb6fc\u001b[0m\u001b[48;2;39;40;34m                                                                                   \u001b[0m\u001b[48;2;39;40;34m \u001b[0m\n",
       "\u001b[48;2;39;40;34m                                                                                                                   \n",
       "\u001b[0m"
      ]
     },
     "metadata": {},
     "output_type": "display_data"
    }
   ],
   "source": [
    "clean_src = mermaid_src.split('---')[-1].strip()\n",
    "display(RichMarkdown(f\"```mermaid\\n{clean_src}\\n```\"))\n",
    "#display(RichMarkdown(f\"```mermaid\\n{mermaid_src}\\n```\"))"
   ]
  },
  {
   "cell_type": "code",
   "execution_count": 50,
   "id": "0eaa90ed",
   "metadata": {},
   "outputs": [
    {
     "data": {
      "image/png": "[encoded data removed]",
      "text/plain": [
       "<IPython.core.display.Image object>"
      ]
     },
     "metadata": {},
     "output_type": "display_data"
    }
   ],
   "source": [
    "# mermaid issue so saving locally and display\n",
    "from IPython.display import Image, display\n",
    "\n",
    "# Path to your PNG\n",
    "path = \"/home/sathish/Learning/Core_Developments/AI_Agents/Assignment_langgraph/code/flow_diagram_final.png\"\n",
    "\n",
    "# Display in notebook cell\n",
    "display(Image(filename=path))"
   ]
  },
  {
   "cell_type": "code",
   "execution_count": null,
   "id": "76a22c27",
   "metadata": {},
   "outputs": [
    {
     "name": "stdout",
     "output_type": "stream",
     "text": [
      "---ROUTE QUESTION---\n",
      "---ROUTE QUESTION TO WEB SEARCH---\n",
      "--Getting Info from the Web--\n",
      "Raw extracted query: Current CEO of antropic 2025?\n",
      "-------------------------LLM REWRITE NOT STARTED---------------------\n",
      "Current websearch question Current CEO of antropic 2025?\n",
      "--Generating final answer--\n",
      "Current websearch question from Generation Current CEO of antropic 2025?\n"
     ]
    },
    {
     "data": {
      "text/html": [
       "<pre style=\"white-space:pre;overflow-x:auto;line-height:normal;font-family:Menlo,'DejaVu Sans Mono',consolas,'Courier New',monospace\"><span style=\"color: #008080; text-decoration-color: #008080; font-weight: bold\">=== Agent State ===</span>\n",
       "\n",
       "</pre>\n"
      ],
      "text/plain": [
       "\u001b[1;36m=== Agent State ===\u001b[0m\n",
       "\n"
      ]
     },
     "metadata": {},
     "output_type": "display_data"
    },
    {
     "data": {
      "text/html": [
       "<pre style=\"white-space:pre;overflow-x:auto;line-height:normal;font-family:Menlo,'DejaVu Sans Mono',consolas,'Courier New',monospace\"><span style=\"font-weight: bold\">User Query:</span>                                                                                                        \n",
       "\n",
       "<span style=\"color: #800080; text-decoration-color: #800080\">▌ [HumanMessage(content='Current CEO of antropic 2025?', additional_kwargs={}, response_metadata={},             </span>\n",
       "<span style=\"color: #800080; text-decoration-color: #800080\">▌ id='1639e92a-61ba-4ae7-83df-a1b5b52b77c2'), AIMessage(content='The current CEO of Anthropic in 2025 is Dario   </span>\n",
       "<span style=\"color: #800080; text-decoration-color: #800080\">▌ Amodei.', additional_kwargs={'refusal': None}, response_metadata={'token_usage': {'completion_tokens': 17,     </span>\n",
       "<span style=\"color: #800080; text-decoration-color: #800080\">▌ 'prompt_tokens': 748, 'total_tokens': 765, 'completion_tokens_details': {'accepted_prediction_tokens': 0,      </span>\n",
       "<span style=\"color: #800080; text-decoration-color: #800080\">▌ 'audio_tokens': 0, 'reasoning_tokens': 0, 'rejected_prediction_tokens': 0}, 'prompt_tokens_details':           </span>\n",
       "<span style=\"color: #800080; text-decoration-color: #800080\">▌ {'audio_tokens': 0, 'cached_tokens': 0}}, 'model_name': 'gpt-4o-2024-08-06', 'system_fingerprint':             </span>\n",
       "<span style=\"color: #800080; text-decoration-color: #800080\">▌ 'fp_07871e2ad8', 'finish_reason': 'stop', 'logprobs': None}, id='run--3fdde732-43f9-42f0-868a-a06f70460fa5-0', </span>\n",
       "<span style=\"color: #800080; text-decoration-color: #800080\">▌ usage_metadata={'input_tokens': 748, 'output_tokens': 17, 'total_tokens': 765, 'input_token_details': {'audio':</span>\n",
       "<span style=\"color: #800080; text-decoration-color: #800080\">▌ 0, 'cache_read': 0}, 'output_token_details': {'audio': 0, 'reasoning': 0}})]                                   </span>\n",
       "</pre>\n"
      ],
      "text/plain": [
       "\u001b[1mUser Query:\u001b[0m                                                                                                        \n",
       "\n",
       "\u001b[35m▌ \u001b[0m\u001b[35m[HumanMessage(content='Current CEO of antropic 2025?', additional_kwargs={}, response_metadata={}, \u001b[0m\u001b[35m            \u001b[0m\n",
       "\u001b[35m▌ \u001b[0m\u001b[35mid='1639e92a-61ba-4ae7-83df-a1b5b52b77c2'), AIMessage(content='The current CEO of Anthropic in 2025 is Dario \u001b[0m\u001b[35m  \u001b[0m\n",
       "\u001b[35m▌ \u001b[0m\u001b[35mAmodei.', additional_kwargs={'refusal': None}, response_metadata={'token_usage': {'completion_tokens': 17, \u001b[0m\u001b[35m    \u001b[0m\n",
       "\u001b[35m▌ \u001b[0m\u001b[35m'prompt_tokens': 748, 'total_tokens': 765, 'completion_tokens_details': {'accepted_prediction_tokens': 0, \u001b[0m\u001b[35m     \u001b[0m\n",
       "\u001b[35m▌ \u001b[0m\u001b[35m'audio_tokens': 0, 'reasoning_tokens': 0, 'rejected_prediction_tokens': 0}, 'prompt_tokens_details': \u001b[0m\u001b[35m          \u001b[0m\n",
       "\u001b[35m▌ \u001b[0m\u001b[35m{'audio_tokens': 0, 'cached_tokens': 0}}, 'model_name': 'gpt-4o-2024-08-06', 'system_fingerprint': \u001b[0m\u001b[35m            \u001b[0m\n",
       "\u001b[35m▌ \u001b[0m\u001b[35m'fp_07871e2ad8', 'finish_reason': 'stop', 'logprobs': None}, id='run--3fdde732-43f9-42f0-868a-a06f70460fa5-0', \u001b[0m\n",
       "\u001b[35m▌ \u001b[0m\u001b[35musage_metadata={'input_tokens': 748, 'output_tokens': 17, 'total_tokens': 765, 'input_token_details': {'audio':\u001b[0m\n",
       "\u001b[35m▌ \u001b[0m\u001b[35m0, 'cache_read': 0}, 'output_token_details': {'audio': 0, 'reasoning': 0}})]\u001b[0m\u001b[35m                                   \u001b[0m\n"
      ]
     },
     "metadata": {},
     "output_type": "display_data"
    },
    {
     "data": {
      "text/html": [
       "<pre style=\"white-space:pre;overflow-x:auto;line-height:normal;font-family:Menlo,'DejaVu Sans Mono',consolas,'Courier New',monospace\">╭─────────────────── <span style=\"color: #008000; text-decoration-color: #008000; font-weight: bold\">Final Response</span> ────────────────────╮\n",
       "│ The current CEO of Anthropic in 2025 is Dario Amodei. │\n",
       "╰───────────────────────────────────────────────────────╯\n",
       "</pre>\n"
      ],
      "text/plain": [
       "╭─────────────────── \u001b[1;32mFinal Response\u001b[0m ────────────────────╮\n",
       "│ The current CEO of Anthropic in 2025 is Dario Amodei. │\n",
       "╰───────────────────────────────────────────────────────╯\n"
      ]
     },
     "metadata": {},
     "output_type": "display_data"
    },
    {
     "data": {
      "text/html": [
       "<pre style=\"white-space:pre;overflow-x:auto;line-height:normal;font-family:Menlo,'DejaVu Sans Mono',consolas,'Courier New',monospace\">┏━━━━━━━━━━━━━━━━━━━━┳━━━━━━━━━━━━┓\n",
       "┃<span style=\"color: #800080; text-decoration-color: #800080; font-weight: bold\"> Field              </span>┃<span style=\"color: #800080; text-decoration-color: #800080; font-weight: bold\"> Value      </span>┃\n",
       "┡━━━━━━━━━━━━━━━━━━━━╇━━━━━━━━━━━━┩\n",
       "│<span style=\"color: #008080; text-decoration-color: #008080\"> Query Category     </span>│<span style=\"color: #c0c0c0; text-decoration-color: #c0c0c0\"> web_search </span>│\n",
       "│<span style=\"color: #008080; text-decoration-color: #008080\"> RAG Query Category </span>│<span style=\"color: #c0c0c0; text-decoration-color: #c0c0c0\"> None       </span>│\n",
       "└────────────────────┴────────────┘\n",
       "</pre>\n"
      ],
      "text/plain": [
       "┏━━━━━━━━━━━━━━━━━━━━┳━━━━━━━━━━━━┓\n",
       "┃\u001b[1;35m \u001b[0m\u001b[1;35mField             \u001b[0m\u001b[1;35m \u001b[0m┃\u001b[1;35m \u001b[0m\u001b[1;35mValue     \u001b[0m\u001b[1;35m \u001b[0m┃\n",
       "┡━━━━━━━━━━━━━━━━━━━━╇━━━━━━━━━━━━┩\n",
       "│\u001b[36m \u001b[0m\u001b[36mQuery Category    \u001b[0m\u001b[36m \u001b[0m│\u001b[37m \u001b[0m\u001b[37mweb_search\u001b[0m\u001b[37m \u001b[0m│\n",
       "│\u001b[36m \u001b[0m\u001b[36mRAG Query Category\u001b[0m\u001b[36m \u001b[0m│\u001b[37m \u001b[0m\u001b[37mNone      \u001b[0m\u001b[37m \u001b[0m│\n",
       "└────────────────────┴────────────┘\n"
      ]
     },
     "metadata": {},
     "output_type": "display_data"
    },
    {
     "data": {
      "text/html": [
       "<pre style=\"white-space:pre;overflow-x:auto;line-height:normal;font-family:Menlo,'DejaVu Sans Mono',consolas,'Courier New',monospace\"><span style=\"color: #7f7f7f; text-decoration-color: #7f7f7f\">Retrieved </span><span style=\"color: #7fbfbf; text-decoration-color: #7fbfbf; font-weight: bold\">1</span><span style=\"color: #7f7f7f; text-decoration-color: #7f7f7f\"> </span><span style=\"color: #bf7fbf; text-decoration-color: #bf7fbf; font-weight: bold\">document</span><span style=\"color: #7f7f7f; text-decoration-color: #7f7f7f; font-weight: bold\">(</span><span style=\"color: #7f7f7f; text-decoration-color: #7f7f7f\">s</span><span style=\"color: #7f7f7f; text-decoration-color: #7f7f7f; font-weight: bold\">)</span>\n",
       "</pre>\n"
      ],
      "text/plain": [
       "\u001b[2mRetrieved \u001b[0m\u001b[1;2;36m1\u001b[0m\u001b[2m \u001b[0m\u001b[1;2;35mdocument\u001b[0m\u001b[1;2m(\u001b[0m\u001b[2ms\u001b[0m\u001b[1;2m)\u001b[0m\n"
      ]
     },
     "metadata": {},
     "output_type": "display_data"
    },
    {
     "data": {
      "text/html": [
       "<pre style=\"white-space:pre;overflow-x:auto;line-height:normal;font-family:Menlo,'DejaVu Sans Mono',consolas,'Courier New',monospace\">\n",
       "<span style=\"color: #008080; text-decoration-color: #008080; font-weight: bold\">========================</span>\n",
       "\n",
       "</pre>\n"
      ],
      "text/plain": [
       "\n",
       "\u001b[1;36m========================\u001b[0m\n",
       "\n"
      ]
     },
     "metadata": {},
     "output_type": "display_data"
    }
   ],
   "source": [
    "# Sample - Web-Based Question\n",
    "uid = 'sathish01'\n",
    "config = {\"configurable\": {\"thread_id\": uid}}\n",
    "result = app.invoke({\"user_query\": \"Current CEO of antropic 2025?\"},config=config)\n",
    "display_multiagent_state(result)\n"
   ]
  },
  {
   "cell_type": "code",
   "execution_count": 44,
   "id": "a6441f6e",
   "metadata": {},
   "outputs": [
    {
     "name": "stdout",
     "output_type": "stream",
     "text": [
      "---ROUTE QUESTION---\n",
      "---ROUTE QUESTION TO WEB SEARCH---\n",
      "--Getting Info from the Web--\n",
      "Raw extracted query: Tell me about his Educational background?\n",
      "Started Attempt of rewrite\n",
      "True True\n",
      "-------------------------LLM REWRITE STARTED---------------------\n",
      "Rewriter produced: What is Dario Amodei's educational background?\n",
      "Current websearch question What is Dario Amodei's educational background?\n",
      "--Generating final answer--\n",
      "Current websearch question from Generation Tell me about his Educational background?\n"
     ]
    },
    {
     "data": {
      "text/html": [
       "<pre style=\"white-space:pre;overflow-x:auto;line-height:normal;font-family:Menlo,'DejaVu Sans Mono',consolas,'Courier New',monospace\"><span style=\"color: #008080; text-decoration-color: #008080; font-weight: bold\">=== Agent State ===</span>\n",
       "\n",
       "</pre>\n"
      ],
      "text/plain": [
       "\u001b[1;36m=== Agent State ===\u001b[0m\n",
       "\n"
      ]
     },
     "metadata": {},
     "output_type": "display_data"
    },
    {
     "data": {
      "text/html": [
       "<pre style=\"white-space:pre;overflow-x:auto;line-height:normal;font-family:Menlo,'DejaVu Sans Mono',consolas,'Courier New',monospace\"><span style=\"font-weight: bold\">User Query:</span>                                                                                                        \n",
       "\n",
       "<span style=\"color: #800080; text-decoration-color: #800080\">▌ [HumanMessage(content='Current CEO of antropic 2025?', additional_kwargs={}, response_metadata={},             </span>\n",
       "<span style=\"color: #800080; text-decoration-color: #800080\">▌ id='1639e92a-61ba-4ae7-83df-a1b5b52b77c2'), AIMessage(content='The current CEO of Anthropic in 2025 is Dario   </span>\n",
       "<span style=\"color: #800080; text-decoration-color: #800080\">▌ Amodei.', additional_kwargs={'refusal': None}, response_metadata={'token_usage': {'completion_tokens': 17,     </span>\n",
       "<span style=\"color: #800080; text-decoration-color: #800080\">▌ 'prompt_tokens': 748, 'total_tokens': 765, 'completion_tokens_details': {'accepted_prediction_tokens': 0,      </span>\n",
       "<span style=\"color: #800080; text-decoration-color: #800080\">▌ 'audio_tokens': 0, 'reasoning_tokens': 0, 'rejected_prediction_tokens': 0}, 'prompt_tokens_details':           </span>\n",
       "<span style=\"color: #800080; text-decoration-color: #800080\">▌ {'audio_tokens': 0, 'cached_tokens': 0}}, 'model_name': 'gpt-4o-2024-08-06', 'system_fingerprint':             </span>\n",
       "<span style=\"color: #800080; text-decoration-color: #800080\">▌ 'fp_07871e2ad8', 'finish_reason': 'stop', 'logprobs': None}, id='run--3fdde732-43f9-42f0-868a-a06f70460fa5-0', </span>\n",
       "<span style=\"color: #800080; text-decoration-color: #800080\">▌ usage_metadata={'input_tokens': 748, 'output_tokens': 17, 'total_tokens': 765, 'input_token_details': {'audio':</span>\n",
       "<span style=\"color: #800080; text-decoration-color: #800080\">▌ 0, 'cache_read': 0}, 'output_token_details': {'audio': 0, 'reasoning': 0}}), HumanMessage(content='Tell me     </span>\n",
       "<span style=\"color: #800080; text-decoration-color: #800080\">▌ about his Educational background?', additional_kwargs={}, response_metadata={},                                </span>\n",
       "<span style=\"color: #800080; text-decoration-color: #800080\">▌ id='1cb6dd09-f6ca-43b1-bda5-f021c4e96db4'), AIMessage(content=\"Dario Amodei's educational background includes a</span>\n",
       "<span style=\"color: #800080; text-decoration-color: #800080\">▌ Bachelor of Science degree in Physics from Stanford University, which he completed in 2006. He initially began </span>\n",
       "<span style=\"color: #800080; text-decoration-color: #800080\">▌ his undergraduate studies at the California Institute of Technology (Caltech) from 2001 to 2003 before         </span>\n",
       "<span style=\"color: #800080; text-decoration-color: #800080\">▌ transferring to Stanford. He then earned a PhD in Physics from Princeton University, where he focused on the   </span>\n",
       "<span style=\"color: #800080; text-decoration-color: #800080\">▌ electrophysiology of neural circuits. Additionally, he conducted postdoctoral research in neuroscience at      </span>\n",
       "<span style=\"color: #800080; text-decoration-color: #800080\">▌ Stanford University.\", additional_kwargs={'refusal': None}, response_metadata={'token_usage':                  </span>\n",
       "<span style=\"color: #800080; text-decoration-color: #800080\">▌ {'completion_tokens': 94, 'prompt_tokens': 981, 'total_tokens': 1075, 'completion_tokens_details':             </span>\n",
       "<span style=\"color: #800080; text-decoration-color: #800080\">▌ {'accepted_prediction_tokens': 0, 'audio_tokens': 0, 'reasoning_tokens': 0, 'rejected_prediction_tokens': 0},  </span>\n",
       "<span style=\"color: #800080; text-decoration-color: #800080\">▌ 'prompt_tokens_details': {'audio_tokens': 0, 'cached_tokens': 0}}, 'model_name': 'gpt-4o-2024-08-06',          </span>\n",
       "<span style=\"color: #800080; text-decoration-color: #800080\">▌ 'system_fingerprint': 'fp_cbf1785567', 'finish_reason': 'stop', 'logprobs': None},                             </span>\n",
       "<span style=\"color: #800080; text-decoration-color: #800080\">▌ id='run--86790b2b-d45c-4ec1-9240-0b734757924e-0', usage_metadata={'input_tokens': 981, 'output_tokens': 94,    </span>\n",
       "<span style=\"color: #800080; text-decoration-color: #800080\">▌ 'total_tokens': 1075, 'input_token_details': {'audio': 0, 'cache_read': 0}, 'output_token_details': {'audio':  </span>\n",
       "<span style=\"color: #800080; text-decoration-color: #800080\">▌ 0, 'reasoning': 0}})]                                                                                          </span>\n",
       "</pre>\n"
      ],
      "text/plain": [
       "\u001b[1mUser Query:\u001b[0m                                                                                                        \n",
       "\n",
       "\u001b[35m▌ \u001b[0m\u001b[35m[HumanMessage(content='Current CEO of antropic 2025?', additional_kwargs={}, response_metadata={}, \u001b[0m\u001b[35m            \u001b[0m\n",
       "\u001b[35m▌ \u001b[0m\u001b[35mid='1639e92a-61ba-4ae7-83df-a1b5b52b77c2'), AIMessage(content='The current CEO of Anthropic in 2025 is Dario \u001b[0m\u001b[35m  \u001b[0m\n",
       "\u001b[35m▌ \u001b[0m\u001b[35mAmodei.', additional_kwargs={'refusal': None}, response_metadata={'token_usage': {'completion_tokens': 17, \u001b[0m\u001b[35m    \u001b[0m\n",
       "\u001b[35m▌ \u001b[0m\u001b[35m'prompt_tokens': 748, 'total_tokens': 765, 'completion_tokens_details': {'accepted_prediction_tokens': 0, \u001b[0m\u001b[35m     \u001b[0m\n",
       "\u001b[35m▌ \u001b[0m\u001b[35m'audio_tokens': 0, 'reasoning_tokens': 0, 'rejected_prediction_tokens': 0}, 'prompt_tokens_details': \u001b[0m\u001b[35m          \u001b[0m\n",
       "\u001b[35m▌ \u001b[0m\u001b[35m{'audio_tokens': 0, 'cached_tokens': 0}}, 'model_name': 'gpt-4o-2024-08-06', 'system_fingerprint': \u001b[0m\u001b[35m            \u001b[0m\n",
       "\u001b[35m▌ \u001b[0m\u001b[35m'fp_07871e2ad8', 'finish_reason': 'stop', 'logprobs': None}, id='run--3fdde732-43f9-42f0-868a-a06f70460fa5-0', \u001b[0m\n",
       "\u001b[35m▌ \u001b[0m\u001b[35musage_metadata={'input_tokens': 748, 'output_tokens': 17, 'total_tokens': 765, 'input_token_details': {'audio':\u001b[0m\n",
       "\u001b[35m▌ \u001b[0m\u001b[35m0, 'cache_read': 0}, 'output_token_details': {'audio': 0, 'reasoning': 0}}), HumanMessage(content='Tell me \u001b[0m\u001b[35m    \u001b[0m\n",
       "\u001b[35m▌ \u001b[0m\u001b[35mabout his Educational background?', additional_kwargs={}, response_metadata={}, \u001b[0m\u001b[35m                               \u001b[0m\n",
       "\u001b[35m▌ \u001b[0m\u001b[35mid='1cb6dd09-f6ca-43b1-bda5-f021c4e96db4'), AIMessage(content=\"Dario Amodei's educational background includes a\u001b[0m\n",
       "\u001b[35m▌ \u001b[0m\u001b[35mBachelor of Science degree in Physics from Stanford University, which he completed in 2006. He initially began \u001b[0m\n",
       "\u001b[35m▌ \u001b[0m\u001b[35mhis undergraduate studies at the California Institute of Technology (Caltech) from 2001 to 2003 before \u001b[0m\u001b[35m        \u001b[0m\n",
       "\u001b[35m▌ \u001b[0m\u001b[35mtransferring to Stanford. He then earned a PhD in Physics from Princeton University, where he focused on the \u001b[0m\u001b[35m  \u001b[0m\n",
       "\u001b[35m▌ \u001b[0m\u001b[35melectrophysiology of neural circuits. Additionally, he conducted postdoctoral research in neuroscience at \u001b[0m\u001b[35m     \u001b[0m\n",
       "\u001b[35m▌ \u001b[0m\u001b[35mStanford University.\", additional_kwargs={'refusal': None}, response_metadata={'token_usage': \u001b[0m\u001b[35m                 \u001b[0m\n",
       "\u001b[35m▌ \u001b[0m\u001b[35m{'completion_tokens': 94, 'prompt_tokens': 981, 'total_tokens': 1075, 'completion_tokens_details': \u001b[0m\u001b[35m            \u001b[0m\n",
       "\u001b[35m▌ \u001b[0m\u001b[35m{'accepted_prediction_tokens': 0, 'audio_tokens': 0, 'reasoning_tokens': 0, 'rejected_prediction_tokens': 0}, \u001b[0m\u001b[35m \u001b[0m\n",
       "\u001b[35m▌ \u001b[0m\u001b[35m'prompt_tokens_details': {'audio_tokens': 0, 'cached_tokens': 0}}, 'model_name': 'gpt-4o-2024-08-06', \u001b[0m\u001b[35m         \u001b[0m\n",
       "\u001b[35m▌ \u001b[0m\u001b[35m'system_fingerprint': 'fp_cbf1785567', 'finish_reason': 'stop', 'logprobs': None}, \u001b[0m\u001b[35m                            \u001b[0m\n",
       "\u001b[35m▌ \u001b[0m\u001b[35mid='run--86790b2b-d45c-4ec1-9240-0b734757924e-0', usage_metadata={'input_tokens': 981, 'output_tokens': 94, \u001b[0m\u001b[35m   \u001b[0m\n",
       "\u001b[35m▌ \u001b[0m\u001b[35m'total_tokens': 1075, 'input_token_details': {'audio': 0, 'cache_read': 0}, 'output_token_details': {'audio': \u001b[0m\u001b[35m \u001b[0m\n",
       "\u001b[35m▌ \u001b[0m\u001b[35m0, 'reasoning': 0}})]\u001b[0m\u001b[35m                                                                                          \u001b[0m\n"
      ]
     },
     "metadata": {},
     "output_type": "display_data"
    },
    {
     "data": {
      "text/html": [
       "<pre style=\"white-space:pre;overflow-x:auto;line-height:normal;font-family:Menlo,'DejaVu Sans Mono',consolas,'Courier New',monospace\">╭──────────────────────────────────────────────── <span style=\"color: #008000; text-decoration-color: #008000; font-weight: bold\">Final Response</span> ─────────────────────────────────────────────────╮\n",
       "│ Dario Amodei's educational background includes a Bachelor of Science degree in Physics from Stanford            │\n",
       "│ University, which he completed in 2006. He initially began his undergraduate studies at the California          │\n",
       "│ Institute of Technology (Caltech) from 2001 to 2003 before transferring to Stanford. He then earned a PhD in    │\n",
       "│ Physics from Princeton University, where he focused on the electrophysiology of neural circuits. Additionally,  │\n",
       "│ he conducted postdoctoral research in neuroscience at Stanford University.                                      │\n",
       "╰─────────────────────────────────────────────────────────────────────────────────────────────────────────────────╯\n",
       "</pre>\n"
      ],
      "text/plain": [
       "╭──────────────────────────────────────────────── \u001b[1;32mFinal Response\u001b[0m ─────────────────────────────────────────────────╮\n",
       "│ Dario Amodei's educational background includes a Bachelor of Science degree in Physics from Stanford            │\n",
       "│ University, which he completed in 2006. He initially began his undergraduate studies at the California          │\n",
       "│ Institute of Technology (Caltech) from 2001 to 2003 before transferring to Stanford. He then earned a PhD in    │\n",
       "│ Physics from Princeton University, where he focused on the electrophysiology of neural circuits. Additionally,  │\n",
       "│ he conducted postdoctoral research in neuroscience at Stanford University.                                      │\n",
       "╰─────────────────────────────────────────────────────────────────────────────────────────────────────────────────╯\n"
      ]
     },
     "metadata": {},
     "output_type": "display_data"
    },
    {
     "data": {
      "text/html": [
       "<pre style=\"white-space:pre;overflow-x:auto;line-height:normal;font-family:Menlo,'DejaVu Sans Mono',consolas,'Courier New',monospace\">┏━━━━━━━━━━━━━━━━━━━━┳━━━━━━━━━━━━┓\n",
       "┃<span style=\"color: #800080; text-decoration-color: #800080; font-weight: bold\"> Field              </span>┃<span style=\"color: #800080; text-decoration-color: #800080; font-weight: bold\"> Value      </span>┃\n",
       "┡━━━━━━━━━━━━━━━━━━━━╇━━━━━━━━━━━━┩\n",
       "│<span style=\"color: #008080; text-decoration-color: #008080\"> Query Category     </span>│<span style=\"color: #c0c0c0; text-decoration-color: #c0c0c0\"> web_search </span>│\n",
       "│<span style=\"color: #008080; text-decoration-color: #008080\"> RAG Query Category </span>│<span style=\"color: #c0c0c0; text-decoration-color: #c0c0c0\"> None       </span>│\n",
       "└────────────────────┴────────────┘\n",
       "</pre>\n"
      ],
      "text/plain": [
       "┏━━━━━━━━━━━━━━━━━━━━┳━━━━━━━━━━━━┓\n",
       "┃\u001b[1;35m \u001b[0m\u001b[1;35mField             \u001b[0m\u001b[1;35m \u001b[0m┃\u001b[1;35m \u001b[0m\u001b[1;35mValue     \u001b[0m\u001b[1;35m \u001b[0m┃\n",
       "┡━━━━━━━━━━━━━━━━━━━━╇━━━━━━━━━━━━┩\n",
       "│\u001b[36m \u001b[0m\u001b[36mQuery Category    \u001b[0m\u001b[36m \u001b[0m│\u001b[37m \u001b[0m\u001b[37mweb_search\u001b[0m\u001b[37m \u001b[0m│\n",
       "│\u001b[36m \u001b[0m\u001b[36mRAG Query Category\u001b[0m\u001b[36m \u001b[0m│\u001b[37m \u001b[0m\u001b[37mNone      \u001b[0m\u001b[37m \u001b[0m│\n",
       "└────────────────────┴────────────┘\n"
      ]
     },
     "metadata": {},
     "output_type": "display_data"
    },
    {
     "data": {
      "text/html": [
       "<pre style=\"white-space:pre;overflow-x:auto;line-height:normal;font-family:Menlo,'DejaVu Sans Mono',consolas,'Courier New',monospace\"><span style=\"color: #7f7f7f; text-decoration-color: #7f7f7f\">Retrieved </span><span style=\"color: #7fbfbf; text-decoration-color: #7fbfbf; font-weight: bold\">1</span><span style=\"color: #7f7f7f; text-decoration-color: #7f7f7f\"> </span><span style=\"color: #bf7fbf; text-decoration-color: #bf7fbf; font-weight: bold\">document</span><span style=\"color: #7f7f7f; text-decoration-color: #7f7f7f; font-weight: bold\">(</span><span style=\"color: #7f7f7f; text-decoration-color: #7f7f7f\">s</span><span style=\"color: #7f7f7f; text-decoration-color: #7f7f7f; font-weight: bold\">)</span>\n",
       "</pre>\n"
      ],
      "text/plain": [
       "\u001b[2mRetrieved \u001b[0m\u001b[1;2;36m1\u001b[0m\u001b[2m \u001b[0m\u001b[1;2;35mdocument\u001b[0m\u001b[1;2m(\u001b[0m\u001b[2ms\u001b[0m\u001b[1;2m)\u001b[0m\n"
      ]
     },
     "metadata": {},
     "output_type": "display_data"
    },
    {
     "data": {
      "text/html": [
       "<pre style=\"white-space:pre;overflow-x:auto;line-height:normal;font-family:Menlo,'DejaVu Sans Mono',consolas,'Courier New',monospace\">\n",
       "<span style=\"color: #008080; text-decoration-color: #008080; font-weight: bold\">========================</span>\n",
       "\n",
       "</pre>\n"
      ],
      "text/plain": [
       "\n",
       "\u001b[1;36m========================\u001b[0m\n",
       "\n"
      ]
     },
     "metadata": {},
     "output_type": "display_data"
    }
   ],
   "source": [
    "# Sample - RAG-Based Question\n",
    "uid = 'sathish01'\n",
    "config = {\"configurable\": {\"thread_id\": uid}}\n",
    "result = app.invoke({\"user_query\": \"Tell me about his Educational background?\"},config=config)\n",
    "display_multiagent_state(result)\n"
   ]
  },
  {
   "cell_type": "code",
   "execution_count": 45,
   "id": "0f229c5a",
   "metadata": {},
   "outputs": [
    {
     "name": "stdout",
     "output_type": "stream",
     "text": [
      "---ROUTE QUESTION---\n",
      "---ROUTE QUESTION TO RAG---\n",
      "Actual Question Can you provide details about Vihaan Chopra's position, location, and reporting manager at FintechCo? and catgeory hr\n",
      "--Generating final answer--\n",
      "Current websearch question from Generation Can you provide details about Vihaan Chopra's position, location, and reporting manager at FintechCo?\n"
     ]
    },
    {
     "data": {
      "text/html": [
       "<pre style=\"white-space:pre;overflow-x:auto;line-height:normal;font-family:Menlo,'DejaVu Sans Mono',consolas,'Courier New',monospace\"><span style=\"color: #008080; text-decoration-color: #008080; font-weight: bold\">=== Agent State ===</span>\n",
       "\n",
       "</pre>\n"
      ],
      "text/plain": [
       "\u001b[1;36m=== Agent State ===\u001b[0m\n",
       "\n"
      ]
     },
     "metadata": {},
     "output_type": "display_data"
    },
    {
     "data": {
      "text/html": [
       "<pre style=\"white-space:pre;overflow-x:auto;line-height:normal;font-family:Menlo,'DejaVu Sans Mono',consolas,'Courier New',monospace\"><span style=\"font-weight: bold\">User Query:</span>                                                                                                        \n",
       "\n",
       "<span style=\"color: #800080; text-decoration-color: #800080\">▌ [HumanMessage(content=\"Can you provide details about Vihaan Chopra's position, location, and reporting manager </span>\n",
       "<span style=\"color: #800080; text-decoration-color: #800080\">▌ at FintechCo?\", additional_kwargs={}, response_metadata={}, id='f179382d-4a8c-482a-a65b-4f3857e845cf'),        </span>\n",
       "<span style=\"color: #800080; text-decoration-color: #800080\">▌ AIMessage(content='Vihaan Chopra works as a Relationship Manager in the Sales department at FintechCo. He is   </span>\n",
       "<span style=\"color: #800080; text-decoration-color: #800080\">▌ based in Mumbai and reports to the manager with ID FINEMP1005.', additional_kwargs={'refusal': None},          </span>\n",
       "<span style=\"color: #800080; text-decoration-color: #800080\">▌ response_metadata={'token_usage': {'completion_tokens': 34, 'prompt_tokens': 433, 'total_tokens': 467,         </span>\n",
       "<span style=\"color: #800080; text-decoration-color: #800080\">▌ 'completion_tokens_details': {'accepted_prediction_tokens': 0, 'audio_tokens': 0, 'reasoning_tokens': 0,       </span>\n",
       "<span style=\"color: #800080; text-decoration-color: #800080\">▌ 'rejected_prediction_tokens': 0}, 'prompt_tokens_details': {'audio_tokens': 0, 'cached_tokens': 0}},           </span>\n",
       "<span style=\"color: #800080; text-decoration-color: #800080\">▌ 'model_name': 'gpt-4o-2024-08-06', 'system_fingerprint': 'fp_cbf1785567', 'finish_reason': 'stop', 'logprobs': </span>\n",
       "<span style=\"color: #800080; text-decoration-color: #800080\">▌ None}, id='run--4e633354-e202-445f-ba61-6ee6670d6fd3-0', usage_metadata={'input_tokens': 433, 'output_tokens': </span>\n",
       "<span style=\"color: #800080; text-decoration-color: #800080\">▌ 34, 'total_tokens': 467, 'input_token_details': {'audio': 0, 'cache_read': 0}, 'output_token_details':         </span>\n",
       "<span style=\"color: #800080; text-decoration-color: #800080\">▌ {'audio': 0, 'reasoning': 0}})]                                                                                </span>\n",
       "</pre>\n"
      ],
      "text/plain": [
       "\u001b[1mUser Query:\u001b[0m                                                                                                        \n",
       "\n",
       "\u001b[35m▌ \u001b[0m\u001b[35m[HumanMessage(content=\"Can you provide details about Vihaan Chopra's position, location, and reporting manager \u001b[0m\n",
       "\u001b[35m▌ \u001b[0m\u001b[35mat FintechCo?\", additional_kwargs={}, response_metadata={}, id='f179382d-4a8c-482a-a65b-4f3857e845cf'), \u001b[0m\u001b[35m       \u001b[0m\n",
       "\u001b[35m▌ \u001b[0m\u001b[35mAIMessage(content='Vihaan Chopra works as a Relationship Manager in the Sales department at FintechCo. He is \u001b[0m\u001b[35m  \u001b[0m\n",
       "\u001b[35m▌ \u001b[0m\u001b[35mbased in Mumbai and reports to the manager with ID FINEMP1005.', additional_kwargs={'refusal': None}, \u001b[0m\u001b[35m         \u001b[0m\n",
       "\u001b[35m▌ \u001b[0m\u001b[35mresponse_metadata={'token_usage': {'completion_tokens': 34, 'prompt_tokens': 433, 'total_tokens': 467, \u001b[0m\u001b[35m        \u001b[0m\n",
       "\u001b[35m▌ \u001b[0m\u001b[35m'completion_tokens_details': {'accepted_prediction_tokens': 0, 'audio_tokens': 0, 'reasoning_tokens': 0, \u001b[0m\u001b[35m      \u001b[0m\n",
       "\u001b[35m▌ \u001b[0m\u001b[35m'rejected_prediction_tokens': 0}, 'prompt_tokens_details': {'audio_tokens': 0, 'cached_tokens': 0}}, \u001b[0m\u001b[35m          \u001b[0m\n",
       "\u001b[35m▌ \u001b[0m\u001b[35m'model_name': 'gpt-4o-2024-08-06', 'system_fingerprint': 'fp_cbf1785567', 'finish_reason': 'stop', 'logprobs': \u001b[0m\n",
       "\u001b[35m▌ \u001b[0m\u001b[35mNone}, id='run--4e633354-e202-445f-ba61-6ee6670d6fd3-0', usage_metadata={'input_tokens': 433, 'output_tokens': \u001b[0m\n",
       "\u001b[35m▌ \u001b[0m\u001b[35m34, 'total_tokens': 467, 'input_token_details': {'audio': 0, 'cache_read': 0}, 'output_token_details': \u001b[0m\u001b[35m        \u001b[0m\n",
       "\u001b[35m▌ \u001b[0m\u001b[35m{'audio': 0, 'reasoning': 0}})]\u001b[0m\u001b[35m                                                                                \u001b[0m\n"
      ]
     },
     "metadata": {},
     "output_type": "display_data"
    },
    {
     "data": {
      "text/html": [
       "<pre style=\"white-space:pre;overflow-x:auto;line-height:normal;font-family:Menlo,'DejaVu Sans Mono',consolas,'Courier New',monospace\">╭──────────────────────────────────────────────── <span style=\"color: #008000; text-decoration-color: #008000; font-weight: bold\">Final Response</span> ─────────────────────────────────────────────────╮\n",
       "│ Vihaan Chopra works as a Relationship Manager in the Sales department at FintechCo. He is based in Mumbai and   │\n",
       "│ reports to the manager with ID FINEMP1005.                                                                      │\n",
       "╰─────────────────────────────────────────────────────────────────────────────────────────────────────────────────╯\n",
       "</pre>\n"
      ],
      "text/plain": [
       "╭──────────────────────────────────────────────── \u001b[1;32mFinal Response\u001b[0m ─────────────────────────────────────────────────╮\n",
       "│ Vihaan Chopra works as a Relationship Manager in the Sales department at FintechCo. He is based in Mumbai and   │\n",
       "│ reports to the manager with ID FINEMP1005.                                                                      │\n",
       "╰─────────────────────────────────────────────────────────────────────────────────────────────────────────────────╯\n"
      ]
     },
     "metadata": {},
     "output_type": "display_data"
    },
    {
     "data": {
      "text/html": [
       "<pre style=\"white-space:pre;overflow-x:auto;line-height:normal;font-family:Menlo,'DejaVu Sans Mono',consolas,'Courier New',monospace\">┏━━━━━━━━━━━━━━━━━━━━┳━━━━━━━━━━━┓\n",
       "┃<span style=\"color: #800080; text-decoration-color: #800080; font-weight: bold\"> Field              </span>┃<span style=\"color: #800080; text-decoration-color: #800080; font-weight: bold\"> Value     </span>┃\n",
       "┡━━━━━━━━━━━━━━━━━━━━╇━━━━━━━━━━━┩\n",
       "│<span style=\"color: #008080; text-decoration-color: #008080\"> Query Category     </span>│<span style=\"color: #c0c0c0; text-decoration-color: #c0c0c0\"> RAG_Based </span>│\n",
       "│<span style=\"color: #008080; text-decoration-color: #008080\"> RAG Query Category </span>│<span style=\"color: #c0c0c0; text-decoration-color: #c0c0c0\"> hr        </span>│\n",
       "└────────────────────┴───────────┘\n",
       "</pre>\n"
      ],
      "text/plain": [
       "┏━━━━━━━━━━━━━━━━━━━━┳━━━━━━━━━━━┓\n",
       "┃\u001b[1;35m \u001b[0m\u001b[1;35mField             \u001b[0m\u001b[1;35m \u001b[0m┃\u001b[1;35m \u001b[0m\u001b[1;35mValue    \u001b[0m\u001b[1;35m \u001b[0m┃\n",
       "┡━━━━━━━━━━━━━━━━━━━━╇━━━━━━━━━━━┩\n",
       "│\u001b[36m \u001b[0m\u001b[36mQuery Category    \u001b[0m\u001b[36m \u001b[0m│\u001b[37m \u001b[0m\u001b[37mRAG_Based\u001b[0m\u001b[37m \u001b[0m│\n",
       "│\u001b[36m \u001b[0m\u001b[36mRAG Query Category\u001b[0m\u001b[36m \u001b[0m│\u001b[37m \u001b[0m\u001b[37mhr       \u001b[0m\u001b[37m \u001b[0m│\n",
       "└────────────────────┴───────────┘\n"
      ]
     },
     "metadata": {},
     "output_type": "display_data"
    },
    {
     "data": {
      "text/html": [
       "<pre style=\"white-space:pre;overflow-x:auto;line-height:normal;font-family:Menlo,'DejaVu Sans Mono',consolas,'Courier New',monospace\"><span style=\"color: #7f7f7f; text-decoration-color: #7f7f7f\">Retrieved </span><span style=\"color: #7fbfbf; text-decoration-color: #7fbfbf; font-weight: bold\">1</span><span style=\"color: #7f7f7f; text-decoration-color: #7f7f7f\"> </span><span style=\"color: #bf7fbf; text-decoration-color: #bf7fbf; font-weight: bold\">document</span><span style=\"color: #7f7f7f; text-decoration-color: #7f7f7f; font-weight: bold\">(</span><span style=\"color: #7f7f7f; text-decoration-color: #7f7f7f\">s</span><span style=\"color: #7f7f7f; text-decoration-color: #7f7f7f; font-weight: bold\">)</span>\n",
       "</pre>\n"
      ],
      "text/plain": [
       "\u001b[2mRetrieved \u001b[0m\u001b[1;2;36m1\u001b[0m\u001b[2m \u001b[0m\u001b[1;2;35mdocument\u001b[0m\u001b[1;2m(\u001b[0m\u001b[2ms\u001b[0m\u001b[1;2m)\u001b[0m\n"
      ]
     },
     "metadata": {},
     "output_type": "display_data"
    },
    {
     "data": {
      "text/html": [
       "<pre style=\"white-space:pre;overflow-x:auto;line-height:normal;font-family:Menlo,'DejaVu Sans Mono',consolas,'Courier New',monospace\">\n",
       "<span style=\"color: #008080; text-decoration-color: #008080; font-weight: bold\">========================</span>\n",
       "\n",
       "</pre>\n"
      ],
      "text/plain": [
       "\n",
       "\u001b[1;36m========================\u001b[0m\n",
       "\n"
      ]
     },
     "metadata": {},
     "output_type": "display_data"
    }
   ],
   "source": [
    "# Sample - RAG-Based Question\n",
    "uid = 'user002'\n",
    "config = {\"configurable\": {\"thread_id\": uid}}\n",
    "result = app.invoke({\"user_query\": \"Can you provide details about Vihaan Chopra's position, location, and reporting manager at FintechCo?\"},config=config)\n",
    "display_multiagent_state(result)\n"
   ]
  },
  {
   "cell_type": "code",
   "execution_count": 46,
   "id": "ca5e6be9",
   "metadata": {},
   "outputs": [
    {
     "name": "stdout",
     "output_type": "stream",
     "text": [
      "---ROUTE QUESTION---\n",
      "---ROUTE QUESTION TO RAG---\n",
      "Actual Question What percentage of the budget went to Event Marketing? and catgeory finance\n",
      "--Generating final answer--\n",
      "Current websearch question from Generation What percentage of the budget went to Event Marketing?\n"
     ]
    },
    {
     "data": {
      "text/html": [
       "<pre style=\"white-space:pre;overflow-x:auto;line-height:normal;font-family:Menlo,'DejaVu Sans Mono',consolas,'Courier New',monospace\"><span style=\"color: #008080; text-decoration-color: #008080; font-weight: bold\">=== Agent State ===</span>\n",
       "\n",
       "</pre>\n"
      ],
      "text/plain": [
       "\u001b[1;36m=== Agent State ===\u001b[0m\n",
       "\n"
      ]
     },
     "metadata": {},
     "output_type": "display_data"
    },
    {
     "data": {
      "text/html": [
       "<pre style=\"white-space:pre;overflow-x:auto;line-height:normal;font-family:Menlo,'DejaVu Sans Mono',consolas,'Courier New',monospace\"><span style=\"font-weight: bold\">User Query:</span>                                                                                                        \n",
       "\n",
       "<span style=\"color: #800080; text-decoration-color: #800080\">▌ [HumanMessage(content=\"Can you provide details about Vihaan Chopra's position, location, and reporting manager </span>\n",
       "<span style=\"color: #800080; text-decoration-color: #800080\">▌ at FintechCo?\", additional_kwargs={}, response_metadata={}, id='f179382d-4a8c-482a-a65b-4f3857e845cf'),        </span>\n",
       "<span style=\"color: #800080; text-decoration-color: #800080\">▌ AIMessage(content='Vihaan Chopra works as a Relationship Manager in the Sales department at FintechCo. He is   </span>\n",
       "<span style=\"color: #800080; text-decoration-color: #800080\">▌ based in Mumbai and reports to the manager with ID FINEMP1005.', additional_kwargs={'refusal': None},          </span>\n",
       "<span style=\"color: #800080; text-decoration-color: #800080\">▌ response_metadata={'token_usage': {'completion_tokens': 34, 'prompt_tokens': 433, 'total_tokens': 467,         </span>\n",
       "<span style=\"color: #800080; text-decoration-color: #800080\">▌ 'completion_tokens_details': {'accepted_prediction_tokens': 0, 'audio_tokens': 0, 'reasoning_tokens': 0,       </span>\n",
       "<span style=\"color: #800080; text-decoration-color: #800080\">▌ 'rejected_prediction_tokens': 0}, 'prompt_tokens_details': {'audio_tokens': 0, 'cached_tokens': 0}},           </span>\n",
       "<span style=\"color: #800080; text-decoration-color: #800080\">▌ 'model_name': 'gpt-4o-2024-08-06', 'system_fingerprint': 'fp_cbf1785567', 'finish_reason': 'stop', 'logprobs': </span>\n",
       "<span style=\"color: #800080; text-decoration-color: #800080\">▌ None}, id='run--4e633354-e202-445f-ba61-6ee6670d6fd3-0', usage_metadata={'input_tokens': 433, 'output_tokens': </span>\n",
       "<span style=\"color: #800080; text-decoration-color: #800080\">▌ 34, 'total_tokens': 467, 'input_token_details': {'audio': 0, 'cache_read': 0}, 'output_token_details':         </span>\n",
       "<span style=\"color: #800080; text-decoration-color: #800080\">▌ {'audio': 0, 'reasoning': 0}}), HumanMessage(content='What percentage of the budget went to Event Marketing?', </span>\n",
       "<span style=\"color: #800080; text-decoration-color: #800080\">▌ additional_kwargs={}, response_metadata={}, id='2364ffd4-d584-4827-a48e-15e56166baf7'), AIMessage(content='The </span>\n",
       "<span style=\"color: #800080; text-decoration-color: #800080\">▌ financial report indicates that marketing-related expenses, including dinner and corporate events, accounted   </span>\n",
       "<span style=\"color: #800080; text-decoration-color: #800080\">▌ for 40% of vendor services. Vendor services totaled $30 million, so the amount spent on marketing-related      </span>\n",
       "<span style=\"color: #800080; text-decoration-color: #800080\">▌ expenses was $12 million. However, the report does not specify the total budget, so the percentage of the      </span>\n",
       "<span style=\"color: #800080; text-decoration-color: #800080\">▌ entire budget that went to event marketing cannot be determined from the provided information.',               </span>\n",
       "<span style=\"color: #800080; text-decoration-color: #800080\">▌ additional_kwargs={'refusal': None}, response_metadata={'token_usage': {'completion_tokens': 75,               </span>\n",
       "<span style=\"color: #800080; text-decoration-color: #800080\">▌ 'prompt_tokens': 3674, 'total_tokens': 3749, 'completion_tokens_details': {'accepted_prediction_tokens': 0,    </span>\n",
       "<span style=\"color: #800080; text-decoration-color: #800080\">▌ 'audio_tokens': 0, 'reasoning_tokens': 0, 'rejected_prediction_tokens': 0}, 'prompt_tokens_details':           </span>\n",
       "<span style=\"color: #800080; text-decoration-color: #800080\">▌ {'audio_tokens': 0, 'cached_tokens': 0}}, 'model_name': 'gpt-4o-2024-08-06', 'system_fingerprint':             </span>\n",
       "<span style=\"color: #800080; text-decoration-color: #800080\">▌ 'fp_cbf1785567', 'finish_reason': 'stop', 'logprobs': None}, id='run--dd238c62-211f-48d4-81b6-eb7510edf180-0', </span>\n",
       "<span style=\"color: #800080; text-decoration-color: #800080\">▌ usage_metadata={'input_tokens': 3674, 'output_tokens': 75, 'total_tokens': 3749, 'input_token_details':        </span>\n",
       "<span style=\"color: #800080; text-decoration-color: #800080\">▌ {'audio': 0, 'cache_read': 0}, 'output_token_details': {'audio': 0, 'reasoning': 0}})]                         </span>\n",
       "</pre>\n"
      ],
      "text/plain": [
       "\u001b[1mUser Query:\u001b[0m                                                                                                        \n",
       "\n",
       "\u001b[35m▌ \u001b[0m\u001b[35m[HumanMessage(content=\"Can you provide details about Vihaan Chopra's position, location, and reporting manager \u001b[0m\n",
       "\u001b[35m▌ \u001b[0m\u001b[35mat FintechCo?\", additional_kwargs={}, response_metadata={}, id='f179382d-4a8c-482a-a65b-4f3857e845cf'), \u001b[0m\u001b[35m       \u001b[0m\n",
       "\u001b[35m▌ \u001b[0m\u001b[35mAIMessage(content='Vihaan Chopra works as a Relationship Manager in the Sales department at FintechCo. He is \u001b[0m\u001b[35m  \u001b[0m\n",
       "\u001b[35m▌ \u001b[0m\u001b[35mbased in Mumbai and reports to the manager with ID FINEMP1005.', additional_kwargs={'refusal': None}, \u001b[0m\u001b[35m         \u001b[0m\n",
       "\u001b[35m▌ \u001b[0m\u001b[35mresponse_metadata={'token_usage': {'completion_tokens': 34, 'prompt_tokens': 433, 'total_tokens': 467, \u001b[0m\u001b[35m        \u001b[0m\n",
       "\u001b[35m▌ \u001b[0m\u001b[35m'completion_tokens_details': {'accepted_prediction_tokens': 0, 'audio_tokens': 0, 'reasoning_tokens': 0, \u001b[0m\u001b[35m      \u001b[0m\n",
       "\u001b[35m▌ \u001b[0m\u001b[35m'rejected_prediction_tokens': 0}, 'prompt_tokens_details': {'audio_tokens': 0, 'cached_tokens': 0}}, \u001b[0m\u001b[35m          \u001b[0m\n",
       "\u001b[35m▌ \u001b[0m\u001b[35m'model_name': 'gpt-4o-2024-08-06', 'system_fingerprint': 'fp_cbf1785567', 'finish_reason': 'stop', 'logprobs': \u001b[0m\n",
       "\u001b[35m▌ \u001b[0m\u001b[35mNone}, id='run--4e633354-e202-445f-ba61-6ee6670d6fd3-0', usage_metadata={'input_tokens': 433, 'output_tokens': \u001b[0m\n",
       "\u001b[35m▌ \u001b[0m\u001b[35m34, 'total_tokens': 467, 'input_token_details': {'audio': 0, 'cache_read': 0}, 'output_token_details': \u001b[0m\u001b[35m        \u001b[0m\n",
       "\u001b[35m▌ \u001b[0m\u001b[35m{'audio': 0, 'reasoning': 0}}), HumanMessage(content='What percentage of the budget went to Event Marketing?', \u001b[0m\n",
       "\u001b[35m▌ \u001b[0m\u001b[35madditional_kwargs={}, response_metadata={}, id='2364ffd4-d584-4827-a48e-15e56166baf7'), AIMessage(content='The \u001b[0m\n",
       "\u001b[35m▌ \u001b[0m\u001b[35mfinancial report indicates that marketing-related expenses, including dinner and corporate events, accounted \u001b[0m\u001b[35m  \u001b[0m\n",
       "\u001b[35m▌ \u001b[0m\u001b[35mfor 40% of vendor services. Vendor services totaled $30 million, so the amount spent on marketing-related \u001b[0m\u001b[35m     \u001b[0m\n",
       "\u001b[35m▌ \u001b[0m\u001b[35mexpenses was $12 million. However, the report does not specify the total budget, so the percentage of the \u001b[0m\u001b[35m     \u001b[0m\n",
       "\u001b[35m▌ \u001b[0m\u001b[35mentire budget that went to event marketing cannot be determined from the provided information.', \u001b[0m\u001b[35m              \u001b[0m\n",
       "\u001b[35m▌ \u001b[0m\u001b[35madditional_kwargs={'refusal': None}, response_metadata={'token_usage': {'completion_tokens': 75, \u001b[0m\u001b[35m              \u001b[0m\n",
       "\u001b[35m▌ \u001b[0m\u001b[35m'prompt_tokens': 3674, 'total_tokens': 3749, 'completion_tokens_details': {'accepted_prediction_tokens': 0, \u001b[0m\u001b[35m   \u001b[0m\n",
       "\u001b[35m▌ \u001b[0m\u001b[35m'audio_tokens': 0, 'reasoning_tokens': 0, 'rejected_prediction_tokens': 0}, 'prompt_tokens_details': \u001b[0m\u001b[35m          \u001b[0m\n",
       "\u001b[35m▌ \u001b[0m\u001b[35m{'audio_tokens': 0, 'cached_tokens': 0}}, 'model_name': 'gpt-4o-2024-08-06', 'system_fingerprint': \u001b[0m\u001b[35m            \u001b[0m\n",
       "\u001b[35m▌ \u001b[0m\u001b[35m'fp_cbf1785567', 'finish_reason': 'stop', 'logprobs': None}, id='run--dd238c62-211f-48d4-81b6-eb7510edf180-0', \u001b[0m\n",
       "\u001b[35m▌ \u001b[0m\u001b[35musage_metadata={'input_tokens': 3674, 'output_tokens': 75, 'total_tokens': 3749, 'input_token_details': \u001b[0m\u001b[35m       \u001b[0m\n",
       "\u001b[35m▌ \u001b[0m\u001b[35m{'audio': 0, 'cache_read': 0}, 'output_token_details': {'audio': 0, 'reasoning': 0}})]\u001b[0m\u001b[35m                         \u001b[0m\n"
      ]
     },
     "metadata": {},
     "output_type": "display_data"
    },
    {
     "data": {
      "text/html": [
       "<pre style=\"white-space:pre;overflow-x:auto;line-height:normal;font-family:Menlo,'DejaVu Sans Mono',consolas,'Courier New',monospace\">╭──────────────────────────────────────────────── <span style=\"color: #008000; text-decoration-color: #008000; font-weight: bold\">Final Response</span> ─────────────────────────────────────────────────╮\n",
       "│ The financial report indicates that marketing-related expenses, including dinner and corporate events,          │\n",
       "│ accounted for 40% of vendor services. Vendor services totaled $30 million, so the amount spent on               │\n",
       "│ marketing-related expenses was $12 million. However, the report does not specify the total budget, so the       │\n",
       "│ percentage of the entire budget that went to event marketing cannot be determined from the provided             │\n",
       "│ information.                                                                                                    │\n",
       "╰─────────────────────────────────────────────────────────────────────────────────────────────────────────────────╯\n",
       "</pre>\n"
      ],
      "text/plain": [
       "╭──────────────────────────────────────────────── \u001b[1;32mFinal Response\u001b[0m ─────────────────────────────────────────────────╮\n",
       "│ The financial report indicates that marketing-related expenses, including dinner and corporate events,          │\n",
       "│ accounted for 40% of vendor services. Vendor services totaled $30 million, so the amount spent on               │\n",
       "│ marketing-related expenses was $12 million. However, the report does not specify the total budget, so the       │\n",
       "│ percentage of the entire budget that went to event marketing cannot be determined from the provided             │\n",
       "│ information.                                                                                                    │\n",
       "╰─────────────────────────────────────────────────────────────────────────────────────────────────────────────────╯\n"
      ]
     },
     "metadata": {},
     "output_type": "display_data"
    },
    {
     "data": {
      "text/html": [
       "<pre style=\"white-space:pre;overflow-x:auto;line-height:normal;font-family:Menlo,'DejaVu Sans Mono',consolas,'Courier New',monospace\">┏━━━━━━━━━━━━━━━━━━━━┳━━━━━━━━━━━┓\n",
       "┃<span style=\"color: #800080; text-decoration-color: #800080; font-weight: bold\"> Field              </span>┃<span style=\"color: #800080; text-decoration-color: #800080; font-weight: bold\"> Value     </span>┃\n",
       "┡━━━━━━━━━━━━━━━━━━━━╇━━━━━━━━━━━┩\n",
       "│<span style=\"color: #008080; text-decoration-color: #008080\"> Query Category     </span>│<span style=\"color: #c0c0c0; text-decoration-color: #c0c0c0\"> RAG_Based </span>│\n",
       "│<span style=\"color: #008080; text-decoration-color: #008080\"> RAG Query Category </span>│<span style=\"color: #c0c0c0; text-decoration-color: #c0c0c0\"> finance   </span>│\n",
       "└────────────────────┴───────────┘\n",
       "</pre>\n"
      ],
      "text/plain": [
       "┏━━━━━━━━━━━━━━━━━━━━┳━━━━━━━━━━━┓\n",
       "┃\u001b[1;35m \u001b[0m\u001b[1;35mField             \u001b[0m\u001b[1;35m \u001b[0m┃\u001b[1;35m \u001b[0m\u001b[1;35mValue    \u001b[0m\u001b[1;35m \u001b[0m┃\n",
       "┡━━━━━━━━━━━━━━━━━━━━╇━━━━━━━━━━━┩\n",
       "│\u001b[36m \u001b[0m\u001b[36mQuery Category    \u001b[0m\u001b[36m \u001b[0m│\u001b[37m \u001b[0m\u001b[37mRAG_Based\u001b[0m\u001b[37m \u001b[0m│\n",
       "│\u001b[36m \u001b[0m\u001b[36mRAG Query Category\u001b[0m\u001b[36m \u001b[0m│\u001b[37m \u001b[0m\u001b[37mfinance  \u001b[0m\u001b[37m \u001b[0m│\n",
       "└────────────────────┴───────────┘\n"
      ]
     },
     "metadata": {},
     "output_type": "display_data"
    },
    {
     "data": {
      "text/html": [
       "<pre style=\"white-space:pre;overflow-x:auto;line-height:normal;font-family:Menlo,'DejaVu Sans Mono',consolas,'Courier New',monospace\"><span style=\"color: #7f7f7f; text-decoration-color: #7f7f7f\">Retrieved </span><span style=\"color: #7fbfbf; text-decoration-color: #7fbfbf; font-weight: bold\">1</span><span style=\"color: #7f7f7f; text-decoration-color: #7f7f7f\"> </span><span style=\"color: #bf7fbf; text-decoration-color: #bf7fbf; font-weight: bold\">document</span><span style=\"color: #7f7f7f; text-decoration-color: #7f7f7f; font-weight: bold\">(</span><span style=\"color: #7f7f7f; text-decoration-color: #7f7f7f\">s</span><span style=\"color: #7f7f7f; text-decoration-color: #7f7f7f; font-weight: bold\">)</span>\n",
       "</pre>\n"
      ],
      "text/plain": [
       "\u001b[2mRetrieved \u001b[0m\u001b[1;2;36m1\u001b[0m\u001b[2m \u001b[0m\u001b[1;2;35mdocument\u001b[0m\u001b[1;2m(\u001b[0m\u001b[2ms\u001b[0m\u001b[1;2m)\u001b[0m\n"
      ]
     },
     "metadata": {},
     "output_type": "display_data"
    },
    {
     "data": {
      "text/html": [
       "<pre style=\"white-space:pre;overflow-x:auto;line-height:normal;font-family:Menlo,'DejaVu Sans Mono',consolas,'Courier New',monospace\">\n",
       "<span style=\"color: #008080; text-decoration-color: #008080; font-weight: bold\">========================</span>\n",
       "\n",
       "</pre>\n"
      ],
      "text/plain": [
       "\n",
       "\u001b[1;36m========================\u001b[0m\n",
       "\n"
      ]
     },
     "metadata": {},
     "output_type": "display_data"
    }
   ],
   "source": [
    "# Sample - RAG-Based Question\n",
    "result = app.invoke({\"user_query\": \"What percentage of the budget went to Event Marketing?\"},config=config)\n",
    "display_multiagent_state(result)\n"
   ]
  },
  {
   "cell_type": "markdown",
   "id": "cdd5a833",
   "metadata": {},
   "source": [
    "## To Test memory"
   ]
  },
  {
   "cell_type": "code",
   "execution_count": 47,
   "id": "4f213a90",
   "metadata": {},
   "outputs": [],
   "source": [
    "from rich.console import Console\n",
    "from rich.markdown import Markdown\n",
    "import json\n",
    "\n",
    "console = Console()\n",
    "\n",
    "def safe_event(event: dict) -> dict:\n",
    "    \"\"\"Convert AIMessage/objects into JSON-safe dict.\"\"\"\n",
    "    safe = {}\n",
    "    for k, v in event.items():\n",
    "        if hasattr(v, \"content\"):   # AIMessage, HumanMessage, etc.\n",
    "            safe[k] = v.content\n",
    "        elif isinstance(v, dict):\n",
    "            safe[k] = safe_event(v)\n",
    "        elif isinstance(v, list):\n",
    "            safe[k] = [e.content if hasattr(e, \"content\") else e for e in v]\n",
    "        else:\n",
    "            safe[k] = v\n",
    "    return safe\n",
    "\n",
    "\n",
    "def call_support_agent(agent, prompt, user_session_id, verbose=False):\n",
    "\n",
    "    initial_state = {\"user_query\": prompt}\n",
    "    print(\"Initial state passed to agent:\", initial_state)\n",
    "\n",
    "    events = agent.stream(\n",
    "        {\"user_query\": prompt},\n",
    "        {\"configurable\": {\"thread_id\": user_session_id, \"recursion_limit\": 5}},\n",
    "        stream_mode=\"values\",\n",
    "    )\n",
    "\n",
    "    print(\"Running Agent. Please wait...\")\n",
    "    last_event = None\n",
    "\n",
    "    for event in events:\n",
    "        last_event = event\n",
    "        if verbose:\n",
    "            console.print_json(json.dumps(safe_event(event), indent=2))\n",
    "\n",
    "    # Extract final response safely\n",
    "    if last_event:\n",
    "        final_resp = last_event.get(\"final_response\", None)\n",
    "        if hasattr(final_resp, \"content\"):\n",
    "            final_resp = final_resp.content\n",
    "        console.print(Markdown(f\"### 📝 Final Answer\\n\\n{final_resp}\"))\n",
    "\n",
    "    return last_event\n",
    "\n"
   ]
  },
  {
   "cell_type": "code",
   "execution_count": 48,
   "id": "d748b2f9",
   "metadata": {},
   "outputs": [
    {
     "name": "stdout",
     "output_type": "stream",
     "text": [
      "\n",
      "\n",
      "============================================================\n",
      "User: What strategies did FinSolve Technologies implement to achieve a 20% increase in customer acquisition and a 15% growth in brand awareness in 2024?\n",
      "Initial state passed to agent: {'user_query': 'What strategies did FinSolve Technologies implement to achieve a 20% increase in customer acquisition and a 15% growth in brand awareness in 2024?'}\n",
      "Running Agent. Please wait...\n",
      "---ROUTE QUESTION---\n",
      "---ROUTE QUESTION TO WEB SEARCH---\n",
      "--Getting Info from the Web--\n",
      "Raw extracted query: What strategies did FinSolve Technologies implement to achieve a 20% increase in customer acquisition and a 15% growth in brand awareness in 2024?\n",
      "-------------------------LLM REWRITE NOT STARTED---------------------\n",
      "Current websearch question What strategies did FinSolve Technologies implement to achieve a 20% increase in customer acquisition and a 15% growth in brand awareness in 2024?\n",
      "--Generating final answer--\n",
      "Current websearch question from Generation What strategies did FinSolve Technologies implement to achieve a 20% increase in customer acquisition and a 15% growth in brand awareness in 2024?\n"
     ]
    },
    {
     "data": {
      "text/html": [
       "<pre style=\"white-space:pre;overflow-x:auto;line-height:normal;font-family:Menlo,'DejaVu Sans Mono',consolas,'Courier New',monospace\">                                                  <span style=\"font-weight: bold\">📝 Final Answer</span>                                                  \n",
       "\n",
       "FinSolve Technologies implemented several strategies to achieve a 20% increase in customer acquisition and a 15%   \n",
       "growth in brand awareness in 2024. These strategies included:                                                      \n",
       "\n",
       "<span style=\"color: #808000; text-decoration-color: #808000; font-weight: bold\"> 1 </span><span style=\"font-weight: bold\">Staying Current with Emerging Trends and Technologies</span>: They utilized advanced analytics, AI-driven tools, and   \n",
       "<span style=\"color: #808000; text-decoration-color: #808000; font-weight: bold\">   </span>new marketing platforms to stay ahead of the competition and adapt to the rapidly changing digital landscape.   \n",
       "<span style=\"color: #808000; text-decoration-color: #808000; font-weight: bold\"> 2 </span><span style=\"font-weight: bold\">Creative Solutions</span>: They developed visually appealing and engaging ad creatives, such as banners and video ads, \n",
       "<span style=\"color: #808000; text-decoration-color: #808000; font-weight: bold\">   </span>to capture audience attention.                                                                                  \n",
       "<span style=\"color: #808000; text-decoration-color: #808000; font-weight: bold\"> 3 </span><span style=\"font-weight: bold\">Data-Driven Ad Space Purchasing</span>: They used data to make informed decisions about ad placements for maximum      \n",
       "<span style=\"color: #808000; text-decoration-color: #808000; font-weight: bold\">   </span>impact.                                                                                                         \n",
       "<span style=\"color: #808000; text-decoration-color: #808000; font-weight: bold\"> 4 </span><span style=\"font-weight: bold\">App Store Optimization (ASO)</span>: They enhanced app visibility and downloads through keyword optimization and user  \n",
       "<span style=\"color: #808000; text-decoration-color: #808000; font-weight: bold\">   </span>reviews management.                                                                                             \n",
       "<span style=\"color: #808000; text-decoration-color: #808000; font-weight: bold\"> 5 </span><span style=\"font-weight: bold\">Link Building</span>: They boosted their profile by adding backlinks to reputable and relevant websites through guest  \n",
       "<span style=\"color: #808000; text-decoration-color: #808000; font-weight: bold\">   </span>blogging, content partnerships, influencer collaborations, and social media promotion.                          \n",
       "<span style=\"color: #808000; text-decoration-color: #808000; font-weight: bold\"> 6 </span><span style=\"font-weight: bold\">Technical SEO</span>: They ensured their website was user-friendly and indexable by search engines by focusing on      \n",
       "<span style=\"color: #808000; text-decoration-color: #808000; font-weight: bold\">   </span>technical performance, site speed, fixing broken links, implementing HTTPS security, and creating XML sitemaps. \n",
       "<span style=\"color: #808000; text-decoration-color: #808000; font-weight: bold\"> 7 </span><span style=\"font-weight: bold\">Referral Programs</span>: They set up referral programs offering discounts to customers who referred others, leveraging\n",
       "<span style=\"color: #808000; text-decoration-color: #808000; font-weight: bold\">   </span>the high value of their existing customer base.                                                                 \n",
       "\n",
       "These strategies collectively contributed to their growth in customer acquisition and brand awareness.             \n",
       "</pre>\n"
      ],
      "text/plain": [
       "                                                  \u001b[1m📝 Final Answer\u001b[0m                                                  \n",
       "\n",
       "FinSolve Technologies implemented several strategies to achieve a 20% increase in customer acquisition and a 15%   \n",
       "growth in brand awareness in 2024. These strategies included:                                                      \n",
       "\n",
       "\u001b[1;33m 1 \u001b[0m\u001b[1mStaying Current with Emerging Trends and Technologies\u001b[0m: They utilized advanced analytics, AI-driven tools, and   \n",
       "\u001b[1;33m   \u001b[0mnew marketing platforms to stay ahead of the competition and adapt to the rapidly changing digital landscape.   \n",
       "\u001b[1;33m 2 \u001b[0m\u001b[1mCreative Solutions\u001b[0m: They developed visually appealing and engaging ad creatives, such as banners and video ads, \n",
       "\u001b[1;33m   \u001b[0mto capture audience attention.                                                                                  \n",
       "\u001b[1;33m 3 \u001b[0m\u001b[1mData-Driven Ad Space Purchasing\u001b[0m: They used data to make informed decisions about ad placements for maximum      \n",
       "\u001b[1;33m   \u001b[0mimpact.                                                                                                         \n",
       "\u001b[1;33m 4 \u001b[0m\u001b[1mApp Store Optimization (ASO)\u001b[0m: They enhanced app visibility and downloads through keyword optimization and user  \n",
       "\u001b[1;33m   \u001b[0mreviews management.                                                                                             \n",
       "\u001b[1;33m 5 \u001b[0m\u001b[1mLink Building\u001b[0m: They boosted their profile by adding backlinks to reputable and relevant websites through guest  \n",
       "\u001b[1;33m   \u001b[0mblogging, content partnerships, influencer collaborations, and social media promotion.                          \n",
       "\u001b[1;33m 6 \u001b[0m\u001b[1mTechnical SEO\u001b[0m: They ensured their website was user-friendly and indexable by search engines by focusing on      \n",
       "\u001b[1;33m   \u001b[0mtechnical performance, site speed, fixing broken links, implementing HTTPS security, and creating XML sitemaps. \n",
       "\u001b[1;33m 7 \u001b[0m\u001b[1mReferral Programs\u001b[0m: They set up referral programs offering discounts to customers who referred others, leveraging\n",
       "\u001b[1;33m   \u001b[0mthe high value of their existing customer base.                                                                 \n",
       "\n",
       "These strategies collectively contributed to their growth in customer acquisition and brand awareness.             \n"
      ]
     },
     "metadata": {},
     "output_type": "display_data"
    },
    {
     "name": "stdout",
     "output_type": "stream",
     "text": [
      "Query category: web_search\n",
      "RAG category: None\n",
      "Final Response: FinSolve Technologies implemented several strategies to achieve a 20% increase in customer acquisition and a 15% growth in brand awareness in 2024. These strategies included:\n",
      "\n",
      "1. **Staying Current with Emerging Trends and Technologies**: They utilized advanced analytics, AI-driven tools, and new marketing platforms to stay ahead of the competition and adapt to the rapidly changing digital landscape.\n",
      "\n",
      "2. **Creative Solutions**: They developed visually appealing and engaging ad creatives, such as banners and video ads, to capture audience attention.\n",
      "\n",
      "3. **Data-Driven Ad Space Purchasing**: They used data to make informed decisions about ad placements for maximum impact.\n",
      "\n",
      "4. **App Store Optimization (ASO)**: They enhanced app visibility and downloads through keyword optimization and user reviews management.\n",
      "\n",
      "5. **Link Building**: They boosted their profile by adding backlinks to reputable and relevant websites through guest blogging, content partnerships, influencer collaborations, and social media promotion.\n",
      "\n",
      "6. **Technical SEO**: They ensured their website was user-friendly and indexable by search engines by focusing on technical performance, site speed, fixing broken links, implementing HTTPS security, and creating XML sitemaps.\n",
      "\n",
      "7. **Referral Programs**: They set up referral programs offering discounts to customers who referred others, leveraging the high value of their existing customer base.\n",
      "\n",
      "These strategies collectively contributed to their growth in customer acquisition and brand awareness.\n",
      "\n",
      "\n",
      "============================================================\n",
      "User: Who is the current CEO of Microsoft?\n",
      "Initial state passed to agent: {'user_query': 'Who is the current CEO of Microsoft?'}\n",
      "Running Agent. Please wait...\n",
      "---ROUTE QUESTION---\n",
      "---ROUTE QUESTION TO WEB SEARCH---\n",
      "--Getting Info from the Web--\n",
      "Raw extracted query: Who is the current CEO of Microsoft?\n",
      "-------------------------LLM REWRITE NOT STARTED---------------------\n",
      "Current websearch question Who is the current CEO of Microsoft?\n",
      "--Generating final answer--\n",
      "Current websearch question from Generation Who is the current CEO of Microsoft?\n"
     ]
    },
    {
     "data": {
      "text/html": [
       "<pre style=\"white-space:pre;overflow-x:auto;line-height:normal;font-family:Menlo,'DejaVu Sans Mono',consolas,'Courier New',monospace\">                                                  <span style=\"font-weight: bold\">📝 Final Answer</span>                                                  \n",
       "\n",
       "The current CEO of Microsoft is Satya Nadella.                                                                     \n",
       "</pre>\n"
      ],
      "text/plain": [
       "                                                  \u001b[1m📝 Final Answer\u001b[0m                                                  \n",
       "\n",
       "The current CEO of Microsoft is Satya Nadella.                                                                     \n"
      ]
     },
     "metadata": {},
     "output_type": "display_data"
    },
    {
     "name": "stdout",
     "output_type": "stream",
     "text": [
      "Query category: web_search\n",
      "RAG category: None\n",
      "Final Response: The current CEO of Microsoft is Satya Nadella.\n",
      "\n",
      "\n",
      "============================================================\n",
      "User: Where was he born?\n",
      "Initial state passed to agent: {'user_query': 'Where was he born?'}\n",
      "Running Agent. Please wait...\n",
      "---ROUTE QUESTION---\n",
      "---ROUTE QUESTION TO WEB SEARCH---\n",
      "--Getting Info from the Web--\n",
      "Raw extracted query: Where was he born?\n",
      "Started Attempt of rewrite\n",
      "True True\n",
      "-------------------------LLM REWRITE STARTED---------------------\n",
      "Rewriter produced: Where was Satya Nadella, the CEO of Microsoft, born?\n",
      "Current websearch question Where was Satya Nadella, the CEO of Microsoft, born?\n",
      "--Generating final answer--\n",
      "Current websearch question from Generation Where was he born?\n"
     ]
    },
    {
     "data": {
      "text/html": [
       "<pre style=\"white-space:pre;overflow-x:auto;line-height:normal;font-family:Menlo,'DejaVu Sans Mono',consolas,'Courier New',monospace\">                                                  <span style=\"font-weight: bold\">📝 Final Answer</span>                                                  \n",
       "\n",
       "Satya Nadella was born in Hyderabad, India.                                                                        \n",
       "</pre>\n"
      ],
      "text/plain": [
       "                                                  \u001b[1m📝 Final Answer\u001b[0m                                                  \n",
       "\n",
       "Satya Nadella was born in Hyderabad, India.                                                                        \n"
      ]
     },
     "metadata": {},
     "output_type": "display_data"
    },
    {
     "name": "stdout",
     "output_type": "stream",
     "text": [
      "Query category: web_search\n",
      "RAG category: None\n",
      "Final Response: Satya Nadella was born in Hyderabad, India.\n",
      "\n",
      "\n",
      "============================================================\n",
      "User: Can u compare with google ceo with key achievements\n",
      "Initial state passed to agent: {'user_query': 'Can u compare with google ceo with key achievements'}\n",
      "Running Agent. Please wait...\n",
      "---ROUTE QUESTION---\n",
      "---ROUTE QUESTION TO WEB SEARCH---\n",
      "--Getting Info from the Web--\n",
      "Raw extracted query: Can u compare with google ceo with key achievements\n",
      "-------------------------LLM REWRITE NOT STARTED---------------------\n",
      "Current websearch question Can u compare with google ceo with key achievements\n",
      "--Generating final answer--\n",
      "Current websearch question from Generation Can u compare with google ceo with key achievements\n"
     ]
    },
    {
     "data": {
      "text/html": [
       "<pre style=\"white-space:pre;overflow-x:auto;line-height:normal;font-family:Menlo,'DejaVu Sans Mono',consolas,'Courier New',monospace\">                                                  <span style=\"font-weight: bold\">📝 Final Answer</span>                                                  \n",
       "\n",
       "Sundar Pichai, as the CEO of Google, has achieved several key milestones that highlight his leadership and vision. \n",
       "One of his most significant achievements was overseeing the transformation of Google into Alphabet Inc. in 2015.   \n",
       "This restructuring allowed the company to focus more effectively on its various ventures, enhancing accountability \n",
       "and strategic direction.                                                                                           \n",
       "\n",
       "Under Pichai's leadership, Google expanded beyond its core search and advertising business into emerging           \n",
       "technologies such as artificial intelligence, cloud computing, and self-driving cars. His vision of making         \n",
       "technology accessible to everyone has been a driving force behind many of Google's initiatives.                    \n",
       "\n",
       "Pichai also played a crucial role in the development of Google Chrome, convincing the company's founders to create \n",
       "their own web browser, which has since become the world's most popular browser.                                    \n",
       "\n",
       "In terms of financial achievements, Pichai has reached billionaire status, a rare feat for a non-founding CEO. This\n",
       "is largely due to the growth of Alphabet, which has significantly increased in market value and provided           \n",
       "substantial returns to investors.                                                                                  \n",
       "\n",
       "Overall, Pichai's achievements as Google CEO reflect his ability to navigate complex challenges, drive innovation, \n",
       "and maintain a focus on inclusivity and environmental stewardship.                                                 \n",
       "</pre>\n"
      ],
      "text/plain": [
       "                                                  \u001b[1m📝 Final Answer\u001b[0m                                                  \n",
       "\n",
       "Sundar Pichai, as the CEO of Google, has achieved several key milestones that highlight his leadership and vision. \n",
       "One of his most significant achievements was overseeing the transformation of Google into Alphabet Inc. in 2015.   \n",
       "This restructuring allowed the company to focus more effectively on its various ventures, enhancing accountability \n",
       "and strategic direction.                                                                                           \n",
       "\n",
       "Under Pichai's leadership, Google expanded beyond its core search and advertising business into emerging           \n",
       "technologies such as artificial intelligence, cloud computing, and self-driving cars. His vision of making         \n",
       "technology accessible to everyone has been a driving force behind many of Google's initiatives.                    \n",
       "\n",
       "Pichai also played a crucial role in the development of Google Chrome, convincing the company's founders to create \n",
       "their own web browser, which has since become the world's most popular browser.                                    \n",
       "\n",
       "In terms of financial achievements, Pichai has reached billionaire status, a rare feat for a non-founding CEO. This\n",
       "is largely due to the growth of Alphabet, which has significantly increased in market value and provided           \n",
       "substantial returns to investors.                                                                                  \n",
       "\n",
       "Overall, Pichai's achievements as Google CEO reflect his ability to navigate complex challenges, drive innovation, \n",
       "and maintain a focus on inclusivity and environmental stewardship.                                                 \n"
      ]
     },
     "metadata": {},
     "output_type": "display_data"
    },
    {
     "name": "stdout",
     "output_type": "stream",
     "text": [
      "Query category: web_search\n",
      "RAG category: None\n",
      "Final Response: Sundar Pichai, as the CEO of Google, has achieved several key milestones that highlight his leadership and vision. One of his most significant achievements was overseeing the transformation of Google into Alphabet Inc. in 2015. This restructuring allowed the company to focus more effectively on its various ventures, enhancing accountability and strategic direction.\n",
      "\n",
      "Under Pichai's leadership, Google expanded beyond its core search and advertising business into emerging technologies such as artificial intelligence, cloud computing, and self-driving cars. His vision of making technology accessible to everyone has been a driving force behind many of Google's initiatives.\n",
      "\n",
      "Pichai also played a crucial role in the development of Google Chrome, convincing the company's founders to create their own web browser, which has since become the world's most popular browser.\n",
      "\n",
      "In terms of financial achievements, Pichai has reached billionaire status, a rare feat for a non-founding CEO. This is largely due to the growth of Alphabet, which has significantly increased in market value and provided substantial returns to investors.\n",
      "\n",
      "Overall, Pichai's achievements as Google CEO reflect his ability to navigate complex challenges, drive innovation, and maintain a focus on inclusivity and environmental stewardship.\n"
     ]
    }
   ],
   "source": [
    "uid = \"sathish009\"  # same session ID across turns\n",
    "\n",
    "queries = [ \"What strategies did FinSolve Technologies implement to achieve a 20% increase in customer acquisition and a 15% growth in brand awareness in 2024?\",\n",
    "            \"Who is the current CEO of Microsoft?\", \n",
    "           \"Where was he born?\", \n",
    "           \"Can u compare with google ceo with key achievements\"]\n",
    "\n",
    "for q in queries:\n",
    "    print(\"\\n\\n\" + \"=\"*60)\n",
    "    print(f\"User: {q}\")\n",
    "    final_state = call_support_agent(agent=app, prompt=q, user_session_id=uid, verbose=False)\n",
    "    print(\"Query category:\", final_state.get(\"query_category\"))\n",
    "    print(\"RAG category:\", final_state.get(\"rag_query_category\"))\n",
    "    print(\"Final Response:\", getattr(final_state.get(\"final_response\"), \"content\", final_state.get(\"final_response\")))\n"
   ]
  },
  {
   "cell_type": "markdown",
   "id": "4b1aba46",
   "metadata": {},
   "source": [
    "############################################################ END ####################################################################"
   ]
  },
  {
   "cell_type": "markdown",
   "id": "0a05e7a9",
   "metadata": {},
   "source": []
  }
 ],
 "metadata": {
  "kernelspec": {
   "display_name": ".venv",
   "language": "python",
   "name": "python3"
  },
  "language_info": {
   "codemirror_mode": {
    "name": "ipython",
    "version": 3
   },
   "file_extension": ".py",
   "mimetype": "text/x-python",
   "name": "python",
   "nbconvert_exporter": "python",
   "pygments_lexer": "ipython3",
   "version": "3.12.3"
  }
 },
 "nbformat": 4,
 "nbformat_minor": 5
}
